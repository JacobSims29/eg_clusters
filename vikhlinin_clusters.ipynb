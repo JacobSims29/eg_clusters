{
 "cells": [
  {
   "cell_type": "code",
   "execution_count": 47,
   "metadata": {},
   "outputs": [],
   "source": [
    "import numpy as np\n",
    "import matplotlib.pyplot as plt\n",
    "import unyt as u\n",
    "from unyt import mp\n",
    "from scipy.integrate import quad, cumtrapz\n",
    "from scipy.interpolate import InterpolatedUnivariateSpline\n",
    "from scipy.optimize import fmin, minimize"
   ]
  },
  {
   "cell_type": "code",
   "execution_count": 2,
   "metadata": {},
   "outputs": [],
   "source": [
    "H_0=70*u.km/u.s/u.Mpc\n",
    "a_0=(u.c*H_0).in_base(\"galactic\").v\n",
    "G=u.G.in_base(\"galactic\").v\n",
    "c=u.c.value"
   ]
  },
  {
   "cell_type": "code",
   "execution_count": 28,
   "metadata": {},
   "outputs": [],
   "source": [
    "radii=np.logspace(np.log10(1),np.log10(2000.0),100)\n",
    "num_points = radii.size"
   ]
  },
  {
   "cell_type": "code",
   "execution_count": null,
   "metadata": {},
   "outputs": [],
   "source": [
    "i = np.searchsorted(radii, )"
   ]
  },
  {
   "cell_type": "code",
   "execution_count": 4,
   "metadata": {},
   "outputs": [],
   "source": [
    "def make_beta_func(rho_c, r_c, r_s, alpha, beta, epsilon, gamma=3.0):\n",
    "    return lambda r: (rho_c*((r/r_c)**(-alpha/2.))*((1.+(r/r_c)**2)**(-3.*beta/2.0+alpha/4.0)))*(1.0/(1.0+(r/r_s)**gamma)**(0.5*epsilon/gamma))"
   ]
  },
  {
   "cell_type": "code",
   "execution_count": 5,
   "metadata": {},
   "outputs": [],
   "source": [
    "def make_beta_func_2(rho_c, r_c, r_s, alpha, beta, epsilon, rho_c2, r_c2, beta_2, gamma=3.0):\n",
    "    return lambda r: np.sqrt((rho_c**2*((r/r_c)**(-alpha))*((1.+(r/r_c)**2)**(-3.*beta+alpha/2.0)))*(1.0/(1.0+(r/r_s)**gamma)**(epsilon/gamma)) + ((rho_c2**2)/(1+(r**2)/(r_c2**2))**(3*beta_2)))"
   ]
  },
  {
   "cell_type": "code",
   "execution_count": 6,
   "metadata": {},
   "outputs": [],
   "source": [
    "def make_rho_c(n_0):\n",
    "    rho_c = 1.252*mp*n_0*u.cm**-3\n",
    "    return rho_c.to_value(\"Msun/kpc**3\")"
   ]
  },
  {
   "cell_type": "code",
   "execution_count": 7,
   "metadata": {},
   "outputs": [],
   "source": [
    "def integrate_mass(func):\n",
    "    n_radii=radii.size\n",
    "    integrand=lambda rr: func(rr)*rr*rr\n",
    "    masses=np.zeros(radii.size)\n",
    "    for i in range(n_radii):\n",
    "        masses[i]=4.0*np.pi*quad(integrand, 0.0, radii[i])[0]\n",
    "    return masses"
   ]
  },
  {
   "cell_type": "code",
   "execution_count": 8,
   "metadata": {},
   "outputs": [],
   "source": [
    "def EG_mass(radii, rho_B, M_B):\n",
    "    return np.sqrt((a_0*radii**2/(6*G))*(M_B+(4*np.pi*radii**3*rho_B)))"
   ]
  },
  {
   "cell_type": "code",
   "execution_count": 9,
   "metadata": {},
   "outputs": [],
   "source": [
    "def EG_density(EG_mass):\n",
    "    f = InterpolatedUnivariateSpline(radii, EG_mass)\n",
    "    rho = f(radii, nu=1)/(4.0*np.pi*radii**2)\n",
    "    return rho"
   ]
  },
  {
   "cell_type": "code",
   "execution_count": 10,
   "metadata": {},
   "outputs": [],
   "source": [
    "def make_temp_func(T_0, T_min, r_t, r_cool, a, b, c, a_cool):\n",
    "    def _temp(r):\n",
    "        t = (r/r_t)**(-a)/(1.0+(r/r_t)**b)**(c/b)\n",
    "        x = (r/r_cool)**a_cool\n",
    "        t_cool = (x+T_min/T_0)/(x+1)\n",
    "        return T_0*t*t_cool\n",
    "    return _temp"
   ]
  },
  {
   "cell_type": "code",
   "execution_count": 11,
   "metadata": {},
   "outputs": [],
   "source": [
    "def M_hse(r_arr, rho_arr, T_arr):\n",
    "    rho_f = InterpolatedUnivariateSpline(r_arr, rho_arr, k=5)\n",
    "    T_f = InterpolatedUnivariateSpline(r_arr, T_arr, k=5)\n",
    "    dlogrho = rho_f(r_arr, nu=1)*r_arr/rho_arr\n",
    "    dlogT = T_f(r_arr, nu=1)*r_arr/T_arr\n",
    "    # The 1.0e-3 factor below is because the radii need to be in Mpc\n",
    "    return -3.68e13*T_arr*(1.0e-3*r_arr)*(dlogrho+dlogT)"
   ]
  },
  {
   "cell_type": "code",
   "execution_count": 12,
   "metadata": {},
   "outputs": [],
   "source": [
    "def rho_hse(M_arr):\n",
    "    f = InterpolatedUnivariateSpline(radii, M_arr)\n",
    "    rho = f(radii, nu=1)/(4.0*np.pi*radii**2)\n",
    "    return rho"
   ]
  },
  {
   "cell_type": "code",
   "execution_count": 13,
   "metadata": {},
   "outputs": [],
   "source": [
    "def diff(HSE, EG):\n",
    "    return(HSE - EG)"
   ]
  },
  {
   "cell_type": "code",
   "execution_count": 53,
   "metadata": {},
   "outputs": [],
   "source": [
    "def make_root_finder(mtot, m_b, rho_b):\n",
    "    def _y(x, i):\n",
    "        #m_b = trapz(4.0*np.pi*rho_b*radius**2, radius, initial=0.0)\n",
    "        rho_b[i] = x\n",
    "        if i == 0:\n",
    "            dr = radii[i]\n",
    "            m_b[i] = 4.0*np.pi*0.5*radii[i]**2*rho_b[i]*dr\n",
    "        else:\n",
    "            dr = radii[i]-radii[i-1]\n",
    "            m_b[i] = 4.0*np.pi*0.5*(radii[i-1]**2*rho_b[i-1]+radii[i]**2*rho_b[i])*dr+m_b[i-1]\n",
    "        y = mtot[i] - m_b[i] - np.sqrt(a_0/(6.0*G))*radii[i]*np.sqrt(m_b[i]+4.0*np.pi*radii[i]**3*rho_b[i])\n",
    "        return y\n",
    "    return _y"
   ]
  },
  {
   "cell_type": "code",
   "execution_count": 15,
   "metadata": {},
   "outputs": [],
   "source": [
    "# A262\n",
    "\n",
    "rho_c_262 = make_rho_c(3.434e-3)\n",
    "r_c_262 = 45.2\n",
    "r_s_262 = 350.8\n",
    "alpha_262 = 1.674\n",
    "beta_262 = 0.333\n",
    "epsilon_262 = 1.806\n",
    "r_t_262 = 0.35e3\n",
    "r_cool_262 = 19.0\n",
    "a_262 = -0.02\n",
    "b_262 = 5.0\n",
    "c_262 = 1.1\n",
    "a_cool_262 = 5.25\n",
    "T_0_262 = 2.42\n",
    "T_min_262 = 0.64*T_0_262\n",
    "r_min_262 = 10\n",
    "r_det_262 = 450"
   ]
  },
  {
   "cell_type": "code",
   "execution_count": 18,
   "metadata": {},
   "outputs": [],
   "source": [
    "beta_func_262 = make_beta_func(rho_c_262, r_c_262, r_s_262, alpha_262, beta_262, epsilon_262)\n",
    "temp_func_262 = make_temp_func(T_0_262, T_min_262, r_t_262, r_cool_262, a_262, b_262, c_262, a_cool_262)\n",
    "M_B_262 = integrate_mass(beta_func_262)\n",
    "rho_B_262 = beta_func_262(radii)\n",
    "M_DM_262 = EG_mass(radii, rho_B_262, M_B_262)\n",
    "rho_DM_262 = EG_density(M_DM_262)\n",
    "rho_total_262 = rho_B_262 + rho_DM_262\n",
    "M_total_262 = M_B_262 + M_DM_262\n",
    "f_gEG_262 = M_B_262 / M_total_262\n",
    "temp_262 = temp_func_262(radii)\n",
    "M_HSE_262 = M_hse(radii, rho_B_262, temp_262)\n",
    "f_gHSE_262 = M_B_262 / M_HSE_262\n",
    "rho_HSE_262 = rho_hse(M_HSE_262)\n",
    "M_diff_262 = diff(M_HSE_262, M_total_262)\n",
    "rho_diff_262 = diff(rho_HSE_262, rho_total_262)"
   ]
  },
  {
   "cell_type": "code",
   "execution_count": 19,
   "metadata": {},
   "outputs": [
    {
     "data": {
      "text/plain": [
       "(10, 450)"
      ]
     },
     "execution_count": 19,
     "metadata": {},
     "output_type": "execute_result"
    },
    {
     "data": {
      "image/png": "[encoded data removed]",
      "text/plain": [
       "<Figure size 720x720 with 1 Axes>"
      ]
     },
     "metadata": {
      "needs_background": "light"
     },
     "output_type": "display_data"
    }
   ],
   "source": [
    "plt.rc(\"font\", size=18)\n",
    "plt.figure(figsize=(10,10))\n",
    "plt.plot(radii, temp_262)\n",
    "plt.xscale(\"log\")\n",
    "plt.xlabel(\"r (kpc)\")\n",
    "plt.ylabel(r\"$\\mathrm{T\\ (keV)}$\")\n",
    "plt.xlim(r_min_262, r_det_262)"
   ]
  },
  {
   "cell_type": "code",
   "execution_count": 20,
   "metadata": {
    "scrolled": false
   },
   "outputs": [
    {
     "data": {
      "text/plain": [
       "<matplotlib.legend.Legend at 0x1229b0be0>"
      ]
     },
     "execution_count": 20,
     "metadata": {},
     "output_type": "execute_result"
    },
    {
     "data": {
      "image/png": "[encoded data removed]",
      "text/plain": [
       "<Figure size 720x720 with 1 Axes>"
      ]
     },
     "metadata": {
      "needs_background": "light"
     },
     "output_type": "display_data"
    }
   ],
   "source": [
    "plt.rc(\"font\", size=18)\n",
    "plt.figure(figsize=(10,10))\n",
    "plt.loglog(radii, M_B_262, label=\"Baryons\")\n",
    "plt.loglog(radii, M_HSE_262, label=\"Total, HSE\")\n",
    "plt.loglog(radii, M_total_262, label=\"Total, EG\")\n",
    "plt.xlabel(\"r (kpc)\")\n",
    "plt.ylabel(r\"$\\mathrm{M(<r)\\ (M_\\odot)}$\")\n",
    "plt.xlim(r_min_262, r_det_262)\n",
    "plt.legend()"
   ]
  },
  {
   "cell_type": "code",
   "execution_count": 21,
   "metadata": {},
   "outputs": [
    {
     "data": {
      "text/plain": [
       "<matplotlib.legend.Legend at 0x122ec31d0>"
      ]
     },
     "execution_count": 21,
     "metadata": {},
     "output_type": "execute_result"
    },
    {
     "data": {
      "image/png": "[encoded data removed]",
      "text/plain": [
       "<Figure size 720x720 with 1 Axes>"
      ]
     },
     "metadata": {
      "needs_background": "light"
     },
     "output_type": "display_data"
    }
   ],
   "source": [
    "plt.rc(\"font\", size=18)\n",
    "plt.figure(figsize=(10,10))\n",
    "plt.loglog(radii, rho_B_262, label=\"Baryons\")\n",
    "plt.loglog(radii, rho_HSE_262, label=\"Total, HSE\")\n",
    "plt.loglog(radii, rho_total_262, label=\"Total, EG\")\n",
    "plt.xlabel(\"r (kpc)\")\n",
    "plt.ylabel(r\"$\\mathrm{\\rho(r)\\ (M_\\odot/kpc^3)}$\")\n",
    "plt.xlim(r_min_262, r_det_262)\n",
    "plt.legend()"
   ]
  },
  {
   "cell_type": "code",
   "execution_count": 22,
   "metadata": {},
   "outputs": [
    {
     "data": {
      "text/plain": [
       "(0, 0.2)"
      ]
     },
     "execution_count": 22,
     "metadata": {},
     "output_type": "execute_result"
    },
    {
     "data": {
      "image/png": "[encoded data removed]",
      "text/plain": [
       "<Figure size 720x720 with 1 Axes>"
      ]
     },
     "metadata": {
      "needs_background": "light"
     },
     "output_type": "display_data"
    }
   ],
   "source": [
    "plt.rc(\"font\", size=18)\n",
    "plt.figure(figsize=(10,10))\n",
    "plt.plot(radii, f_gEG_262, label = \"$\\mathrm{f_g}$\")\n",
    "plt.plot(radii, f_gHSE_262, label = \"$\\mathrm{f_gHSE}$\")\n",
    "plt.xlabel(\"r (kpc)\")\n",
    "plt.ylabel(r\"$\\mathrm{f_g}$\")\n",
    "plt.xlim(r_min_262, r_det_262)\n",
    "plt.xscale(\"log\")\n",
    "plt.legend()\n",
    "plt.ylim(0, 0.2)"
   ]
  },
  {
   "cell_type": "code",
   "execution_count": 23,
   "metadata": {},
   "outputs": [
    {
     "data": {
      "text/plain": [
       "(10, 450)"
      ]
     },
     "execution_count": 23,
     "metadata": {},
     "output_type": "execute_result"
    },
    {
     "data": {
      "image/png": "[encoded data removed]",
      "text/plain": [
       "<Figure size 720x720 with 1 Axes>"
      ]
     },
     "metadata": {
      "needs_background": "light"
     },
     "output_type": "display_data"
    }
   ],
   "source": [
    "plt.rc(\"font\", size=18)\n",
    "plt.figure(figsize=(10,10))\n",
    "plt.loglog(radii, M_diff_262)\n",
    "plt.xlabel(\"r (kpc)\")\n",
    "plt.ylabel(r\"$\\mathrm{M(<r)\\ (M_\\odot)}$\")\n",
    "plt.xlim(r_min_262, r_det_262)"
   ]
  },
  {
   "cell_type": "code",
   "execution_count": 24,
   "metadata": {},
   "outputs": [
    {
     "data": {
      "text/plain": [
       "Text(0, 0.5, '$\\\\mathrm{\\\\rho(r)\\\\ (M_\\\\odot/kpc^3)}$')"
      ]
     },
     "execution_count": 24,
     "metadata": {},
     "output_type": "execute_result"
    },
    {
     "data": {
      "image/png": "[encoded data removed]",
      "text/plain": [
       "<Figure size 720x720 with 1 Axes>"
      ]
     },
     "metadata": {
      "needs_background": "light"
     },
     "output_type": "display_data"
    }
   ],
   "source": [
    "plt.rc(\"font\", size = 18)\n",
    "plt.figure(figsize = (10,10))\n",
    "plt.loglog(radii, rho_diff_262)\n",
    "plt.xlim(r_min_262, r_det_262)\n",
    "plt.xlabel(\"r (kpc)\")\n",
    "plt.ylabel(r\"$\\mathrm{\\rho(r)\\ (M_\\odot/kpc^3)}$\")"
   ]
  },
  {
   "cell_type": "code",
   "execution_count": 25,
   "metadata": {},
   "outputs": [],
   "source": [
    "#A907\n",
    "\n",
    "rho_c_907 = make_rho_c(6.257e-3)\n",
    "r_c_907 = 136.9\n",
    "r_s_907 = 1885.1\n",
    "alpha_907 = 1.554\n",
    "beta_907 = 0.594\n",
    "epsilon_907 = 4.986\n",
    "r_t_907 = 0.24e3\n",
    "r_cool_907 = 208\n",
    "a_907 = 0.16\n",
    "b_907 = 5.00\n",
    "c_907 = 0.4\n",
    "a_cool_907 = 1.48\n",
    "T_0_907 = 10.19\n",
    "T_min_907 = 0.32*T_0_907\n",
    "r_min_907 = 40\n",
    "r_det_907 = 1300"
   ]
  },
  {
   "cell_type": "code",
   "execution_count": 26,
   "metadata": {},
   "outputs": [],
   "source": [
    "beta_func_907 = make_beta_func(rho_c_907, r_c_907, r_s_907, alpha_907, beta_907, epsilon_907)\n",
    "temp_func_907 = make_temp_func(T_0_907, T_min_907, r_t_907, r_cool_907, a_907, b_907, c_907, a_cool_907)\n",
    "M_B_907 = integrate_mass(beta_func_907)\n",
    "rho_B_907 = beta_func_907(radii)\n",
    "M_DM_907 = EG_mass(radii, rho_B_907, M_B_907)\n",
    "rho_DM_907 = EG_density(M_DM_907)\n",
    "rho_total_907 = rho_B_907 + rho_DM_907\n",
    "M_total_907 = M_B_907 + M_DM_907\n",
    "f_gEG_907 = M_B_907 / M_total_907\n",
    "temp_907 = temp_func_907(radii)\n",
    "M_HSE_907 = M_hse(radii, rho_B_907, temp_907)\n",
    "f_gHSE_907 = M_B_907 / M_HSE_907\n",
    "rho_HSE_907 = rho_hse(M_HSE_907)\n",
    "M_diff_907 = diff(M_HSE_907, M_total_907)\n",
    "rho_diff_907 = diff(rho_HSE_907, rho_total_907)"
   ]
  },
  {
   "cell_type": "code",
   "execution_count": 77,
   "metadata": {},
   "outputs": [],
   "source": [
    "M_B_EG_907 = np.zeros(M_total_907.size)\n",
    "rho_B_EG_907 = np.zeros(M_total_907.size)\n",
    "M907_rf = make_root_finder(M_total_907, M_B_EG_907, rho_B_EG_907)"
   ]
  },
  {
   "cell_type": "code",
   "execution_count": 78,
   "metadata": {},
   "outputs": [],
   "source": [
    "for i in range(num_points):\n",
    "    out = minimize(M907_rf, rho_B_907[i], args=(i,), method=\"Nelder-Mead\")"
   ]
  },
  {
   "cell_type": "code",
   "execution_count": 80,
   "metadata": {},
   "outputs": [
    {
     "data": {
      "text/plain": [
       "(40, 1300)"
      ]
     },
     "execution_count": 80,
     "metadata": {},
     "output_type": "execute_result"
    },
    {
     "data": {
      "image/png": "[encoded data removed]",
      "text/plain": [
       "<Figure size 720x720 with 1 Axes>"
      ]
     },
     "metadata": {
      "needs_background": "light"
     },
     "output_type": "display_data"
    }
   ],
   "source": [
    "plt.rc(\"font\", size=18)\n",
    "plt.figure(figsize=(10,10))\n",
    "plt.plot(radii, temp_907)\n",
    "plt.xscale(\"log\")\n",
    "plt.xlabel(\"r (kpc)\")\n",
    "plt.ylabel(r\"$\\mathrm{T\\ (keV)}$\")\n",
    "plt.xlim(r_min_907, r_det_907)"
   ]
  },
  {
   "cell_type": "code",
   "execution_count": 81,
   "metadata": {},
   "outputs": [
    {
     "data": {
      "text/plain": [
       "<matplotlib.legend.Legend at 0x1249fddd8>"
      ]
     },
     "execution_count": 81,
     "metadata": {},
     "output_type": "execute_result"
    },
    {
     "data": {
      "image/png": "[encoded data removed]",
      "text/plain": [
       "<Figure size 720x720 with 1 Axes>"
      ]
     },
     "metadata": {
      "needs_background": "light"
     },
     "output_type": "display_data"
    }
   ],
   "source": [
    "plt.rc(\"font\", size=18)\n",
    "plt.figure(figsize=(10,10))\n",
    "plt.loglog(radii, M_B_907, label=\"Baryons\")\n",
    "plt.loglog(radii, M_HSE_907, label=\"Total, HSE\")\n",
    "plt.loglog(radii, M_total_907, label=\"Total, EG\")\n",
    "plt.loglog(radii, M_B_EG_907, label='Baryons, EG')\n",
    "plt.xlabel(\"r (kpc)\")\n",
    "plt.ylabel(r\"$\\mathrm{M(<r)\\ (M_\\odot)}$\")\n",
    "plt.xlim(r_min_907, r_det_907)\n",
    "plt.legend()"
   ]
  },
  {
   "cell_type": "code",
   "execution_count": 70,
   "metadata": {},
   "outputs": [
    {
     "data": {
      "text/plain": [
       "<matplotlib.legend.Legend at 0x1253e9fd0>"
      ]
     },
     "execution_count": 70,
     "metadata": {},
     "output_type": "execute_result"
    },
    {
     "data": {
      "image/png": "[encoded data removed]",
      "text/plain": [
       "<Figure size 720x720 with 1 Axes>"
      ]
     },
     "metadata": {
      "needs_background": "light"
     },
     "output_type": "display_data"
    }
   ],
   "source": [
    "plt.rc(\"font\", size=18)\n",
    "plt.figure(figsize=(10,10))\n",
    "plt.loglog(radii, rho_B_907, label=\"Baryons\")\n",
    "plt.loglog(radii, rho_HSE_907, label=\"Total, HSE\")\n",
    "plt.loglog(radii, rho_total_907, label=\"Total, EG\")\n",
    "plt.loglog(radii, rho_B_EG_907, label='Baryons, EG')\n",
    "plt.xlabel(\"r (kpc)\")\n",
    "plt.ylabel(r\"$\\mathrm{\\rho(r)\\ (M_\\odot/kpc^3)}$\")\n",
    "plt.xlim(r_min_907, r_det_907)\n",
    "plt.legend()"
   ]
  },
  {
   "cell_type": "code",
   "execution_count": 71,
   "metadata": {},
   "outputs": [
    {
     "data": {
      "image/png": "[encoded data removed]",
      "text/plain": [
       "<Figure size 720x720 with 1 Axes>"
      ]
     },
     "metadata": {
      "needs_background": "light"
     },
     "output_type": "display_data"
    }
   ],
   "source": [
    "plt.rc(\"font\", size=18)\n",
    "plt.figure(figsize=(10,10))\n",
    "plt.plot(radii, f_gEG_907)\n",
    "plt.plot(radii, f_gHSE_907)\n",
    "plt.xlabel(\"r (kpc)\")\n",
    "plt.ylabel(r\"$\\mathrm{f_g}$\")\n",
    "plt.xscale(\"log\")\n",
    "plt.xlim(r_min_907, r_det_907)\n",
    "plt.ylim(0, 0.2)\n",
    "plt.xscale(\"log\")"
   ]
  },
  {
   "cell_type": "code",
   "execution_count": null,
   "metadata": {},
   "outputs": [],
   "source": [
    "plt.rc(\"font\", size=18)\n",
    "plt.figure(figsize=(10,10))\n",
    "plt.loglog(radii, M_diff_907)\n",
    "plt.xlabel(\"r (kpc)\")\n",
    "plt.ylabel(r\"$\\mathrm{M(<r)\\ (M_\\odot)}$\")\n",
    "plt.xlim(r_min_907, r_det_907)"
   ]
  },
  {
   "cell_type": "code",
   "execution_count": null,
   "metadata": {},
   "outputs": [],
   "source": [
    "plt.rc(\"font\", size=18)\n",
    "plt.figure(figsize=(10,10))\n",
    "plt.loglog(radii, rho_diff_907)\n",
    "plt.xlabel(\"r (kpc)\")\n",
    "plt.ylabel(r\"$\\mathrm{\\rho(r)\\ (M_\\odot/kpc^3)}$\")\n",
    "plt.xlim(r_min_907, r_det_907)"
   ]
  },
  {
   "cell_type": "code",
   "execution_count": null,
   "metadata": {},
   "outputs": [],
   "source": [
    "#A1413\n",
    "\n",
    "rho_c_1413 = make_rho_c(5.526e-3)\n",
    "r_c_1413 = 186.3\n",
    "r_s_1413 = 2077.1\n",
    "alpha_1413 = 1.217\n",
    "beta_1413 = 0.651\n",
    "epsilon_1413 = 4.991\n",
    "r_t_1413 = 1.84e3\n",
    "r_cool_1413 = 30\n",
    "a_1413 = 0.08\n",
    "b_1413 = 4.68\n",
    "c_1413 = 10.0\n",
    "a_cool_1413 = 0.75\n",
    "T_0_1413 = 7.58\n",
    "T_min_1413 = 0.23*T_0_1413\n",
    "r_min_1413 = 20\n",
    "r_det_1413 = 1800"
   ]
  },
  {
   "cell_type": "code",
   "execution_count": null,
   "metadata": {},
   "outputs": [],
   "source": [
    "beta_func_1413 = make_beta_func(rho_c_1413, r_c_1413, r_s_1413, alpha_1413, beta_1413, epsilon_1413)\n",
    "temp_func_1413 = make_temp_func(T_0_1413, T_min_1413, r_t_1413, r_cool_1413, a_1413, b_1413, c_1413, a_cool_1413)\n",
    "M_B_1413 = integrate_mass(beta_func_1413)\n",
    "rho_B_1413 = beta_func_1413(radii)\n",
    "M_DM_1413 = EG_mass(radii, rho_B_1413, M_B_1413)\n",
    "rho_DM_1413 = EG_density(M_DM_1413)\n",
    "rho_total_1413 = rho_B_1413 + rho_DM_1413\n",
    "M_total_1413 = M_B_1413 + M_DM_1413\n",
    "f_gEG_1413 = M_B_1413 / M_total_1413\n",
    "temp_1413 = temp_func_1413(radii)\n",
    "M_HSE_1413 = M_hse(radii, rho_B_1413, temp_1413)\n",
    "f_gHSE_1413 = M_B_1413 / M_HSE_1413\n",
    "rho_HSE_1413 = rho_hse(M_HSE_1413)\n",
    "M_diff_1413 = diff(M_HSE_1413, M_total_1413)\n",
    "rho_diff_1413 = diff(rho_HSE_1413, rho_total_1413)"
   ]
  },
  {
   "cell_type": "code",
   "execution_count": null,
   "metadata": {},
   "outputs": [],
   "source": [
    "plt.rc(\"font\", size=18)\n",
    "plt.figure(figsize=(10,10))\n",
    "plt.plot(radii, temp_1413)\n",
    "plt.xscale(\"log\")\n",
    "plt.xlabel(\"r (kpc)\")\n",
    "plt.ylabel(r\"$\\mathrm{T\\ (keV)}$\")\n",
    "plt.xlim(r_min_1413, r_det_1413)"
   ]
  },
  {
   "cell_type": "code",
   "execution_count": null,
   "metadata": {},
   "outputs": [],
   "source": [
    "plt.rc(\"font\", size=18)\n",
    "plt.figure(figsize=(10,10))\n",
    "plt.loglog(radii, M_B_1413, label=\"Baryons\")\n",
    "plt.loglog(radii, M_HSE_1413, label=\"Total, HSE\")\n",
    "plt.loglog(radii, M_total_1413, label=\"Total, EG\")\n",
    "plt.xlabel(\"r (kpc)\")\n",
    "plt.ylabel(r\"$\\mathrm{M(<r)\\ (M_\\odot)}$\")\n",
    "plt.xlim(r_min_1413, r_det_1413)\n",
    "plt.legend()"
   ]
  },
  {
   "cell_type": "code",
   "execution_count": null,
   "metadata": {},
   "outputs": [],
   "source": [
    "plt.rc(\"font\", size=18)\n",
    "plt.figure(figsize=(10,10))\n",
    "plt.loglog(radii, rho_B_1413, label=\"Baryons\")\n",
    "plt.loglog(radii, rho_HSE_1413, label=\"Total, HSE\")\n",
    "plt.loglog(radii, rho_total_1413, label=\"Total, EG\")\n",
    "plt.xlabel(\"r (kpc)\")\n",
    "plt.ylabel(r\"$\\mathrm{\\rho(r)\\ (M_\\odot/kpc^3)}$\")\n",
    "plt.xlim(r_min_1413, r_det_1413)\n",
    "plt.legend()"
   ]
  },
  {
   "cell_type": "code",
   "execution_count": null,
   "metadata": {},
   "outputs": [],
   "source": [
    "plt.rc(\"font\", size=18)\n",
    "plt.figure(figsize=(10,10))\n",
    "plt.plot(radii, f_gEG_1413)\n",
    "plt.plot(radii, f_gHSE_1413)\n",
    "plt.xlabel(\"r (kpc)\")\n",
    "plt.ylabel(r\"$\\mathrm{f_g}$\")\n",
    "plt.xlim(r_min_1413, r_det_1413)\n",
    "plt.ylim(0, 0.2)\n",
    "plt.xscale(\"log\")"
   ]
  },
  {
   "cell_type": "code",
   "execution_count": null,
   "metadata": {},
   "outputs": [],
   "source": [
    "plt.rc(\"font\", size=18)\n",
    "plt.figure(figsize=(10,10))\n",
    "plt.loglog(radii, M_diff_1413)\n",
    "plt.xlabel(\"r (kpc)\")\n",
    "plt.ylabel(r\"$\\mathrm{M(<r)\\ (M_\\odot)}$\")\n",
    "plt.xlim(r_min_1413, r_det_1413)"
   ]
  },
  {
   "cell_type": "code",
   "execution_count": null,
   "metadata": {},
   "outputs": [],
   "source": [
    "plt.rc(\"font\", size=18)\n",
    "plt.figure(figsize=(10,10))\n",
    "plt.loglog(radii, rho_diff_1413)\n",
    "plt.xlabel(\"r (kpc)\")\n",
    "plt.ylabel(r\"$\\mathrm{\\rho(r)\\ (M_\\odot/kpc^3)}$\")\n",
    "plt.xlim(r_min_1413, r_det_1413)"
   ]
  },
  {
   "cell_type": "code",
   "execution_count": null,
   "metadata": {},
   "outputs": [],
   "source": [
    "#A1795\n",
    "\n",
    "rho_c_1795 = make_rho_c(14.993e-3)\n",
    "r_c_1795 = 72.8\n",
    "r_s_1795 = 1030.8\n",
    "alpha_1795 = 1.060\n",
    "beta_1795 = 0.545\n",
    "epsilon_1795 = 3.474\n",
    "r_t_1795 = 0.55e3\n",
    "r_cool_1795 = 77.0\n",
    "a_1795 = 0.00\n",
    "b_1795 = 1.63\n",
    "c_1795 = 0.9\n",
    "a_cool_1795 = 1.03\n",
    "T_0_1795 = 9.68\n",
    "T_min_1795 = 0.10*T_0_1795\n",
    "r_min_1795 = 40\n",
    "r_det_1795 = 1500"
   ]
  },
  {
   "cell_type": "code",
   "execution_count": null,
   "metadata": {},
   "outputs": [],
   "source": [
    "beta_func_1795 = make_beta_func(rho_c_1795, r_c_1795, r_s_1795, alpha_1795, beta_1795, epsilon_1795)\n",
    "temp_func_1795 = make_temp_func(T_0_1795, T_min_1795, r_t_1795, r_cool_1795, a_1795, b_1795, c_1795, a_cool_1795)\n",
    "M_B_1795 = integrate_mass(beta_func_1795)\n",
    "rho_B_1795 = beta_func_1795(radii)\n",
    "M_DM_1795 = EG_mass(radii, rho_B_1795, M_B_1795)\n",
    "rho_DM_1795 = EG_density(M_DM_1795)\n",
    "rho_total_1795 = rho_B_1795 + rho_DM_1795\n",
    "M_total_1795 = M_B_1795 + M_DM_1795\n",
    "f_gEG_1795 = M_B_1795 / M_total_1795\n",
    "temp_1795 = temp_func_1795(radii)\n",
    "M_HSE_1795 = M_hse(radii, rho_B_1795, temp_1795)\n",
    "f_gHSE_1795 = M_B_1795 / M_HSE_1795\n",
    "rho_HSE_1795 = rho_hse(M_HSE_1795)\n",
    "M_diff_1795 = diff(M_HSE_1795, M_total_1795)\n",
    "rho_diff_1795 = diff(rho_HSE_1795, rho_total_1795)"
   ]
  },
  {
   "cell_type": "code",
   "execution_count": null,
   "metadata": {},
   "outputs": [],
   "source": [
    "plt.rc(\"font\", size=18)\n",
    "plt.figure(figsize=(10,10))\n",
    "plt.plot(radii, temp_1795)\n",
    "plt.xscale(\"log\")\n",
    "plt.xlabel(\"r (kpc)\")\n",
    "plt.ylabel(r\"$\\mathrm{T\\ (keV)}$\")\n",
    "plt.xlim(r_min_1795, r_det_1795)"
   ]
  },
  {
   "cell_type": "code",
   "execution_count": null,
   "metadata": {},
   "outputs": [],
   "source": [
    "plt.rc(\"font\", size=18)\n",
    "plt.figure(figsize=(10,10))\n",
    "plt.loglog(radii, M_B_1795, label=\"Baryons\")\n",
    "plt.loglog(radii, M_HSE_1795, label=\"Total, HSE\")\n",
    "plt.loglog(radii, M_total_1795, label=\"Total, EG\")\n",
    "plt.xlabel(\"r (kpc)\")\n",
    "plt.ylabel(r\"$\\mathrm{M(<r)\\ (M_\\odot)}$\")\n",
    "plt.legend()\n",
    "plt.xlim(r_min_1795, r_det_1795)"
   ]
  },
  {
   "cell_type": "code",
   "execution_count": null,
   "metadata": {},
   "outputs": [],
   "source": [
    "plt.rc(\"font\", size=18)\n",
    "plt.figure(figsize=(10,10))\n",
    "plt.loglog(radii, rho_B_1795, label=\"Baryons\")\n",
    "plt.loglog(radii, rho_HSE_1795, label=\"Total, HSE\")\n",
    "plt.loglog(radii, rho_total_1795, label=\"Total, EG\")\n",
    "plt.xlabel(\"r (kpc)\")\n",
    "plt.ylabel(r\"$\\mathrm{\\rho(r)\\ (M_\\odot/kpc^3)}$\")\n",
    "plt.legend()\n",
    "plt.xlim(r_min_1795, r_det_1795)"
   ]
  },
  {
   "cell_type": "code",
   "execution_count": null,
   "metadata": {},
   "outputs": [],
   "source": [
    "plt.rc(\"font\", size=18)\n",
    "plt.figure(figsize=(10,10))\n",
    "plt.plot(radii, f_gEG_1795)\n",
    "plt.plot(radii, f_gHSE_1795)\n",
    "plt.xlabel(\"r (kpc)\")\n",
    "plt.ylabel(r\"$\\mathrm{f_g}$\")\n",
    "plt.xlim(r_min_1795, r_det_1795)\n",
    "plt.ylim(0.0, 0.2)\n",
    "plt.xscale(\"log\")"
   ]
  },
  {
   "cell_type": "code",
   "execution_count": null,
   "metadata": {},
   "outputs": [],
   "source": [
    "plt.rc(\"font\", size=18)\n",
    "plt.figure(figsize=(10,10))\n",
    "plt.loglog(radii, M_diff_1795)\n",
    "plt.xlabel(\"r (kpc)\")\n",
    "plt.ylabel(r\"$\\mathrm{M(<r)\\ (M_\\odot)}$\")\n",
    "plt.xlim(r_min_1795, r_det_1795)"
   ]
  },
  {
   "cell_type": "code",
   "execution_count": null,
   "metadata": {},
   "outputs": [],
   "source": [
    "plt.rc(\"font\", size=18)\n",
    "plt.figure(figsize=(10,10))\n",
    "plt.loglog(radii, rho_diff_1795)\n",
    "plt.xlabel(\"r (kpc)\")\n",
    "plt.ylabel(r\"$\\mathrm{\\rho(r)\\ (M_\\odot/kpc^3)}$\")\n",
    "plt.xlim(r_min_1795, r_det_1795)"
   ]
  },
  {
   "cell_type": "code",
   "execution_count": null,
   "metadata": {},
   "outputs": [],
   "source": [
    "#A2390\n",
    "\n",
    "rho_c_2390 = make_rho_c(3.069e-3)\n",
    "r_c_2390 = 353.6\n",
    "r_s_2390 = 1200.0\n",
    "alpha_2390 = 1.917\n",
    "beta_2390 = 0.696\n",
    "epsilon_2390 = 0.240\n",
    "r_t_2390 = 2.46e3\n",
    "r_cool_2390 = 214\n",
    "a_2390 = -0.10\n",
    "b_2390 = 5.00\n",
    "c_2390 = 10.0\n",
    "a_cool_2390 = 0.08\n",
    "T_0_2390 = 19.34\n",
    "T_min_2390 = 0.12*T_0_2390\n",
    "r_min_2390 = 80\n",
    "r_det_2390 = 2500"
   ]
  },
  {
   "cell_type": "code",
   "execution_count": null,
   "metadata": {},
   "outputs": [],
   "source": [
    "beta_func_2390 = make_beta_func(rho_c_2390, r_c_2390, r_s_2390, alpha_2390, beta_2390, epsilon_2390)\n",
    "temp_func_2390 = make_temp_func(T_0_2390, T_min_2390, r_t_2390, r_cool_2390, a_2390, b_2390, c_2390, a_cool_2390)\n",
    "M_B_2390 = integrate_mass(beta_func_2390)\n",
    "rho_B_2390 = beta_func_2390(radii)\n",
    "M_DM_2390 = EG_mass(radii, rho_B_2390, M_B_2390)\n",
    "rho_DM_2390 = EG_density(M_DM_2390)\n",
    "rho_total_2390 = rho_B_2390 + rho_DM_2390\n",
    "M_total_2390 = M_B_2390 + M_DM_2390\n",
    "f_gEG_2390 = M_B_2390 / M_total_2390\n",
    "temp_2390 = temp_func_2390(radii)\n",
    "M_HSE_2390 = M_hse(radii, rho_B_2390, temp_2390)\n",
    "f_gHSE_2390 = M_B_2390 / M_HSE_2390\n",
    "rho_HSE_2390 = rho_hse(M_HSE_2390)\n",
    "M_diff_2390 = diff(M_HSE_2390, M_total_2390)\n",
    "rho_diff_2390 = diff(rho_HSE_2390, rho_total_2390)"
   ]
  },
  {
   "cell_type": "code",
   "execution_count": null,
   "metadata": {},
   "outputs": [],
   "source": [
    "plt.rc(\"font\", size=18)\n",
    "plt.figure(figsize=(10,10))\n",
    "plt.plot(radii, temp_2390)\n",
    "plt.xscale(\"log\")\n",
    "plt.xlabel(\"r (kpc)\")\n",
    "plt.ylabel(r\"$\\mathrm{T\\ (keV)}$\")\n",
    "plt.xlim(r_min_2390, r_det_2390)"
   ]
  },
  {
   "cell_type": "code",
   "execution_count": null,
   "metadata": {},
   "outputs": [],
   "source": [
    "plt.rc(\"font\", size=18)\n",
    "plt.figure(figsize=(10,10))\n",
    "plt.loglog(radii, M_B_2390, label=\"Baryons\")\n",
    "plt.loglog(radii, M_HSE_2390, label=\"Total, HSE\")\n",
    "plt.loglog(radii, M_total_2390, label=\"Total, EG\")\n",
    "plt.xlabel(\"r (kpc)\")\n",
    "plt.ylabel(r\"$\\mathrm{M(<r)\\ (M_\\odot)}$\")\n",
    "plt.legend()\n",
    "plt.xlim(r_min_2390, r_det_2390)"
   ]
  },
  {
   "cell_type": "code",
   "execution_count": null,
   "metadata": {},
   "outputs": [],
   "source": [
    "plt.rc(\"font\", size=18)\n",
    "plt.figure(figsize=(10,10))\n",
    "plt.loglog(radii, rho_B_2390, label=\"Baryons\")\n",
    "plt.loglog(radii, rho_HSE_2390, label=\"Total, HSE\")\n",
    "plt.loglog(radii, rho_total_2390, label=\"Total, EG\")\n",
    "plt.xlabel(\"r (kpc)\")\n",
    "plt.ylabel(r\"$\\mathrm{\\rho(r)\\ (M_\\odot/kpc^3)}$\")\n",
    "plt.legend()\n",
    "plt.xlim(r_min_2390, r_det_2390)"
   ]
  },
  {
   "cell_type": "code",
   "execution_count": null,
   "metadata": {},
   "outputs": [],
   "source": [
    "plt.rc(\"font\", size=18)\n",
    "plt.figure(figsize=(10,10))\n",
    "plt.plot(radii, f_gEG_2390)\n",
    "plt.plot(radii, f_gHSE_2390)\n",
    "plt.xlabel(\"r (kpc)\")\n",
    "plt.ylabel(r\"$\\mathrm{f_g}$\")\n",
    "plt.xlim(r_min_2390, r_det_2390)\n",
    "plt.ylim(0.0, 0.2)\n",
    "plt.xscale(\"log\")"
   ]
  },
  {
   "cell_type": "code",
   "execution_count": null,
   "metadata": {},
   "outputs": [],
   "source": [
    "plt.rc(\"font\", size=18)\n",
    "plt.figure(figsize=(10,10))\n",
    "plt.loglog(radii, M_diff_2390)\n",
    "plt.xlabel(\"r (kpc)\")\n",
    "plt.ylabel(r\"$\\mathrm{M(<r)\\ (M_\\odot)}$\")\n",
    "plt.xlim(r_min_2390, r_det_2390)"
   ]
  },
  {
   "cell_type": "code",
   "execution_count": null,
   "metadata": {},
   "outputs": [],
   "source": [
    "plt.rc(\"font\", size=18)\n",
    "plt.figure(figsize=(10,10))\n",
    "plt.loglog(radii, rho_diff_2390)\n",
    "plt.xlabel(\"r (kpc)\")\n",
    "plt.ylabel(r\"$\\mathrm{\\rho(r)\\ (M_\\odot/kpc^3)}$\")\n",
    "plt.xlim(r_min_2390, r_det_2390)"
   ]
  },
  {
   "cell_type": "code",
   "execution_count": null,
   "metadata": {},
   "outputs": [],
   "source": [
    "#USGC S152\n",
    "\n",
    "rho_c_152 = make_rho_c(17.45e-3)\n",
    "r_c_152 = 8.1\n",
    "r_s_152 = 467.5\n",
    "alpha_152 = 2.644\n",
    "beta_152 = 0.453\n",
    "epsilon_152 = 3.280\n",
    "r_t_152 = 0.59e3\n",
    "r_cool_152 = 31.0\n",
    "a_152 = 0.01\n",
    "b_152 = 0.27\n",
    "c_152 = 0.8\n",
    "a_cool_152 = 3.24\n",
    "T_0_152 = 3.42\n",
    "T_min_152 = 0.37*T_0_152\n",
    "r_min_152 = 20\n",
    "r_det_152 = 300"
   ]
  },
  {
   "cell_type": "code",
   "execution_count": null,
   "metadata": {},
   "outputs": [],
   "source": [
    "beta_func_152 = make_beta_func(rho_c_152, r_c_152, r_s_152, alpha_152, beta_152, epsilon_152)\n",
    "temp_func_152 = make_temp_func(T_0_152, T_min_152, r_t_152, r_cool_152, a_152, b_152, c_152, a_cool_152)\n",
    "M_B_152 = integrate_mass(beta_func_152)\n",
    "rho_B_152 = beta_func_152(radii)\n",
    "M_DM_152 = EG_mass(radii, rho_B_152, M_B_152)\n",
    "rho_DM_152 = EG_density(M_DM_152)\n",
    "rho_total_152 = rho_B_152 + rho_DM_152\n",
    "M_total_152 = M_B_152 + M_DM_152\n",
    "f_gEG_152 = M_B_152 / M_total_152\n",
    "temp_152 = temp_func_152(radii)\n",
    "M_HSE_152 = M_hse(radii, rho_B_152, temp_152)\n",
    "f_gHSE_152 = M_B_152 / M_HSE_152\n",
    "rho_HSE_152 = rho_hse(M_HSE_152)\n",
    "M_diff_152 = diff(M_HSE_152, M_total_152)\n",
    "rho_diff_152 = diff(rho_HSE_152, rho_total_152)"
   ]
  },
  {
   "cell_type": "code",
   "execution_count": null,
   "metadata": {},
   "outputs": [],
   "source": [
    "plt.rc(\"font\", size=18)\n",
    "plt.figure(figsize=(10,10))\n",
    "plt.plot(radii, temp_152)\n",
    "plt.xscale(\"log\")\n",
    "plt.xlabel(\"r (kpc)\")\n",
    "plt.ylabel(r\"$\\mathrm{T\\ (keV)}$\")\n",
    "plt.xlim(r_min_152, r_det_152)"
   ]
  },
  {
   "cell_type": "code",
   "execution_count": null,
   "metadata": {},
   "outputs": [],
   "source": [
    "plt.rc(\"font\", size=18)\n",
    "plt.figure(figsize=(10,10))\n",
    "plt.loglog(radii, M_B_152, label=\"Baryons\")\n",
    "plt.loglog(radii, M_HSE_152, label=\"Total, HSE\")\n",
    "plt.loglog(radii, M_total_152, label=\"Total, EG\")\n",
    "plt.xlabel(\"r (kpc)\")\n",
    "plt.ylabel(r\"$\\mathrm{M(<r)\\ (M_\\odot)}$\")\n",
    "plt.legend()\n",
    "plt.xlim(r_min_152, r_det_152)"
   ]
  },
  {
   "cell_type": "code",
   "execution_count": null,
   "metadata": {},
   "outputs": [],
   "source": [
    "plt.rc(\"font\", size=18)\n",
    "plt.figure(figsize=(10,10))\n",
    "plt.loglog(radii, rho_B_152, label=\"Baryons\")\n",
    "plt.loglog(radii, rho_HSE_152, label=\"Total, HSE\")\n",
    "plt.loglog(radii, rho_total_152, label=\"Total, EG\")\n",
    "plt.xlabel(\"r (kpc)\")\n",
    "plt.ylabel(r\"$\\mathrm{\\rho(r)\\ (M_\\odot/kpc^3)}$\")\n",
    "plt.legend()\n",
    "plt.xlim(r_min_152, r_det_152)"
   ]
  },
  {
   "cell_type": "code",
   "execution_count": null,
   "metadata": {},
   "outputs": [],
   "source": [
    "plt.rc(\"font\", size=18)\n",
    "plt.figure(figsize=(10,10))\n",
    "plt.plot(radii, f_gEG_152)\n",
    "plt.plot(radii, f_gHSE_152)\n",
    "plt.xlabel(\"r (kpc)\")\n",
    "plt.ylabel(r\"$\\mathrm{f_g}$\")\n",
    "plt.xlim(r_min_152, r_det_152)\n",
    "plt.ylim(0.0, 0.2)\n",
    "plt.xscale(\"log\")"
   ]
  },
  {
   "cell_type": "code",
   "execution_count": null,
   "metadata": {},
   "outputs": [],
   "source": [
    "plt.rc(\"font\", size=18)\n",
    "plt.figure(figsize=(10,10))\n",
    "plt.loglog(radii, M_diff_152)\n",
    "plt.xlabel(\"r (kpc)\")\n",
    "plt.ylabel(r\"$\\mathrm{M(<r)\\ (M_\\odot)}$\")\n",
    "plt.xlim(r_min_152, r_det_152)"
   ]
  },
  {
   "cell_type": "code",
   "execution_count": null,
   "metadata": {},
   "outputs": [],
   "source": [
    "plt.rc(\"font\", size=18)\n",
    "plt.figure(figsize=(10,10))\n",
    "plt.loglog(radii, rho_diff_152)\n",
    "plt.xlabel(\"r (kpc)\")\n",
    "plt.ylabel(r\"$\\mathrm{\\rho(r)\\ (M_\\odot/kpc^3)}$\")\n",
    "plt.xlim(r_min_152, r_det_152)"
   ]
  },
  {
   "cell_type": "code",
   "execution_count": null,
   "metadata": {},
   "outputs": [],
   "source": [
    "#A133\n",
    "\n",
    "rho_c_133 = make_rho_c(2.968e-3)\n",
    "r_c_133 = 142.7\n",
    "r_s_133 = 1423.3\n",
    "alpha_133 = 0.996\n",
    "beta_133 = 0.575\n",
    "epsilon_133 = 5.000\n",
    "rho_c2_133 = make_rho_c(0.276e-1)\n",
    "r_c2_133 = 33.44\n",
    "beta_2_133 = 0.980\n",
    "r_t_133 = 1.42e3\n",
    "r_cool_133 = 57.0\n",
    "a_133 = 0.12\n",
    "b_133 = 5.00\n",
    "c_133 = 10.0\n",
    "a_cool_133 = 3.88\n",
    "T_0_133 = 3.61\n",
    "T_min_133 = 0.27*T_0_133\n",
    "r_min_133 = 40\n",
    "r_det_133 = 1100"
   ]
  },
  {
   "cell_type": "code",
   "execution_count": null,
   "metadata": {},
   "outputs": [],
   "source": [
    "beta_func_133 = make_beta_func_2(rho_c_133, r_c_133, r_s_133, alpha_133, beta_133, epsilon_133, rho_c2_133, r_c2_133, beta_2_133)\n",
    "temp_func_133 = make_temp_func(T_0_133, T_min_133, r_t_133, r_cool_133, a_133, b_133, c_133, a_cool_133)\n",
    "M_B_133 = integrate_mass(beta_func_133)\n",
    "rho_B_133 = beta_func_133(radii)\n",
    "M_DM_133 = EG_mass(radii, rho_B_133, M_B_133)\n",
    "rho_DM_133 = EG_density(M_DM_133)\n",
    "rho_total_133 = rho_B_133 + rho_DM_133\n",
    "M_total_133 = M_B_133 + M_DM_133\n",
    "f_gEG_133 = M_B_133 / M_total_133\n",
    "temp_133 = temp_func_133(radii)\n",
    "M_HSE_133 = M_hse(radii, rho_B_133, temp_133)\n",
    "f_gHSE_133 = M_B_133 / M_HSE_133\n",
    "rho_HSE_133 = rho_hse(M_HSE_133)\n",
    "M_diff_133 = diff(M_HSE_133, M_total_133)\n",
    "rho_diff_133 = diff(rho_HSE_133, rho_total_133)"
   ]
  },
  {
   "cell_type": "code",
   "execution_count": null,
   "metadata": {},
   "outputs": [],
   "source": [
    "plt.rc(\"font\", size=18)\n",
    "plt.figure(figsize=(10,10))\n",
    "plt.plot(radii, temp_133)\n",
    "plt.xscale(\"log\")\n",
    "plt.xlabel(\"r (kpc)\")\n",
    "plt.ylabel(r\"$\\mathrm{T\\ (keV)}$\")\n",
    "plt.xlim(r_min_133, r_det_133)"
   ]
  },
  {
   "cell_type": "code",
   "execution_count": null,
   "metadata": {},
   "outputs": [],
   "source": [
    "plt.rc(\"font\", size=18)\n",
    "plt.figure(figsize=(10,10))\n",
    "plt.loglog(radii, M_B_133, label=\"Baryons\")\n",
    "plt.loglog(radii, M_HSE_133, label=\"Total, HSE\")\n",
    "plt.loglog(radii, M_total_133, label=\"Total, EG\")\n",
    "plt.xlabel(\"r (kpc)\")\n",
    "plt.ylabel(r\"$\\mathrm{M(<r)\\ (M_\\odot)}$\")\n",
    "plt.xlim(r_min_133, r_det_133)\n",
    "plt.legend()"
   ]
  },
  {
   "cell_type": "code",
   "execution_count": null,
   "metadata": {},
   "outputs": [],
   "source": [
    "plt.rc(\"font\", size=18)\n",
    "plt.figure(figsize=(10,10))\n",
    "plt.loglog(radii, rho_B_133, label=\"Baryons\")\n",
    "plt.loglog(radii, rho_HSE_133, label=\"Total, HSE\")\n",
    "plt.loglog(radii, rho_total_133, label=\"Total, EG\")\n",
    "plt.xlabel(\"r (kpc)\")\n",
    "plt.ylabel(r\"$\\mathrm{\\rho(r)\\ (M_\\odot/kpc^3)}$\")\n",
    "plt.xlim(r_min_133, 1100.0)\n",
    "plt.legend()"
   ]
  },
  {
   "cell_type": "code",
   "execution_count": null,
   "metadata": {},
   "outputs": [],
   "source": [
    "plt.rc(\"font\", size=18)\n",
    "plt.figure(figsize=(10,10))\n",
    "plt.plot(radii, f_gEG_133)\n",
    "plt.plot(radii, f_gHSE_133)\n",
    "plt.xlabel(\"r (kpc)\")\n",
    "plt.ylabel(r\"$\\mathrm{f_g}$\")\n",
    "plt.xlim(r_min_133, r_det_133)\n",
    "plt.xscale(\"log\")\n",
    "plt.ylim(0, 0.2)"
   ]
  },
  {
   "cell_type": "code",
   "execution_count": null,
   "metadata": {},
   "outputs": [],
   "source": [
    "plt.rc(\"font\", size=18)\n",
    "plt.figure(figsize=(10,10))\n",
    "plt.loglog(radii, M_diff_133)\n",
    "plt.xlabel(\"r (kpc)\")\n",
    "plt.ylabel(r\"$\\mathrm{M(<r)\\ (M_\\odot)}$\")\n",
    "plt.xlim(r_min_133, r_det_133)"
   ]
  },
  {
   "cell_type": "code",
   "execution_count": null,
   "metadata": {},
   "outputs": [],
   "source": [
    "plt.rc(\"font\", size=18)\n",
    "plt.figure(figsize=(10,10))\n",
    "plt.loglog(radii, rho_diff_133)\n",
    "plt.xlabel(\"r (kpc)\")\n",
    "plt.ylabel(r\"$\\mathrm{\\rho(r)\\ (M_\\odot/kpc^3)}$\")\n",
    "plt.xlim(r_min_133, r_det_133)"
   ]
  },
  {
   "cell_type": "code",
   "execution_count": null,
   "metadata": {},
   "outputs": [],
   "source": [
    "#A383\n",
    "\n",
    "rho_c_383 = make_rho_c(7.000e-3)\n",
    "r_c_383 = 115.2\n",
    "r_s_383 = 422.3\n",
    "alpha_383 = 2.018\n",
    "beta_383 = 0.583\n",
    "epsilon_383 = 0.740\n",
    "rho_c2_383 = make_rho_c(1.014e-1)\n",
    "r_c2_383 = 0.08\n",
    "beta_2_383 = 1.000\n",
    "r_t_383 = 3.03e3\n",
    "r_cool_383 = 81.0\n",
    "a_383 = 0.14\n",
    "b_383 = 1.44\n",
    "c_383 = 8.0\n",
    "a_cool_383 = 6.17\n",
    "T_0_383 = 8.78\n",
    "T_min_383 = 0.75*T_0_383\n",
    "r_min_383 = 25\n",
    "r_det_383 = 800"
   ]
  },
  {
   "cell_type": "code",
   "execution_count": null,
   "metadata": {},
   "outputs": [],
   "source": [
    "beta_func_383 = make_beta_func_2(rho_c_383, r_c_383, r_s_383, alpha_383, beta_383, epsilon_383, rho_c2_383, r_c2_383, beta_2_383)\n",
    "temp_func_383 = make_temp_func(T_0_383, T_min_383, r_t_383, r_cool_383, a_383, b_383, c_383, a_cool_383)\n",
    "M_B_383 = integrate_mass(beta_func_383)\n",
    "rho_B_383 = beta_func_383(radii)\n",
    "M_DM_383 = EG_mass(radii, rho_B_383, M_B_383)\n",
    "rho_DM_383 = EG_density(M_DM_383)\n",
    "rho_total_383 = rho_B_383 + rho_DM_383\n",
    "M_total_383 = M_B_383 + M_DM_383\n",
    "f_gEG_383 = M_B_383 / M_total_383\n",
    "temp_383 = temp_func_383(radii)\n",
    "M_HSE_383 = M_hse(radii, rho_B_383, temp_383)\n",
    "f_gHSE_383 = M_B_383 / M_HSE_383\n",
    "rho_HSE_383 = rho_hse(M_HSE_383)\n",
    "M_diff_383 = diff(M_HSE_383, M_total_383)\n",
    "rho_diff_383 = diff(rho_HSE_383, rho_total_383)"
   ]
  },
  {
   "cell_type": "code",
   "execution_count": null,
   "metadata": {},
   "outputs": [],
   "source": [
    "plt.rc(\"font\", size=18)\n",
    "plt.figure(figsize=(10,10))\n",
    "plt.plot(radii, temp_383)\n",
    "plt.xscale(\"log\")\n",
    "plt.xlabel(\"r (kpc)\")\n",
    "plt.ylabel(r\"$\\mathrm{T\\ (keV)}$\")\n",
    "plt.xlim(r_min_383, r_det_383)"
   ]
  },
  {
   "cell_type": "code",
   "execution_count": null,
   "metadata": {},
   "outputs": [],
   "source": [
    "plt.rc(\"font\", size=18)\n",
    "plt.figure(figsize=(10,10))\n",
    "plt.loglog(radii, M_B_383, label=\"Baryons\")\n",
    "plt.loglog(radii, M_HSE_383, label=\"Total, HSE\")\n",
    "plt.loglog(radii, M_total_383, label=\"Total, EG\")\n",
    "plt.xlabel(\"r (kpc)\")\n",
    "plt.ylabel(r\"$\\mathrm{M(<r)\\ (M_\\odot)}$\")\n",
    "plt.xlim(r_min_383, r_det_383)\n",
    "plt.legend()"
   ]
  },
  {
   "cell_type": "code",
   "execution_count": null,
   "metadata": {},
   "outputs": [],
   "source": [
    "plt.rc(\"font\", size=18)\n",
    "plt.figure(figsize=(10,10))\n",
    "plt.loglog(radii, rho_B_383, label=\"Baryons\")\n",
    "plt.loglog(radii, rho_HSE_383, label=\"Total, HSE\")\n",
    "plt.loglog(radii, rho_total_383, label=\"Total, EG\")\n",
    "plt.xlabel(\"r (kpc)\")\n",
    "plt.ylabel(r\"$\\mathrm{\\rho(r)\\ (M_\\odot/kpc^3)}$\")\n",
    "plt.xlim(r_min_383, r_det_383)\n",
    "plt.legend()"
   ]
  },
  {
   "cell_type": "code",
   "execution_count": null,
   "metadata": {},
   "outputs": [],
   "source": [
    "plt.rc(\"font\", size=18)\n",
    "plt.figure(figsize=(10,10))\n",
    "plt.plot(radii, f_gEG_383)\n",
    "plt.plot(radii, f_gHSE_383)\n",
    "plt.xlabel(\"r (kpc)\")\n",
    "plt.ylabel(r\"$\\mathrm{f_g}$\")\n",
    "plt.xlim(r_min_383, r_det_383)\n",
    "plt.ylim(0.0, 0.2)\n",
    "plt.xscale(\"log\")"
   ]
  },
  {
   "cell_type": "code",
   "execution_count": null,
   "metadata": {},
   "outputs": [],
   "source": [
    "plt.rc(\"font\", size=18)\n",
    "plt.figure(figsize=(10,10))\n",
    "plt.loglog(radii, M_diff_133)\n",
    "plt.xlabel(\"r (kpc)\")\n",
    "plt.ylabel(r\"$\\mathrm{M(<r)\\ (M_\\odot)}$\")\n",
    "plt.xlim(r_min_383, r_det_383)"
   ]
  },
  {
   "cell_type": "code",
   "execution_count": null,
   "metadata": {},
   "outputs": [],
   "source": [
    "plt.rc(\"font\", size=18)\n",
    "plt.figure(figsize=(10,10))\n",
    "plt.loglog(radii, rho_diff_383)\n",
    "plt.xlabel(\"r (kpc)\")\n",
    "plt.ylabel(r\"$\\mathrm{\\rho(r)\\ (M_\\odot/kpc^3)}$\")\n",
    "plt.xlim(r_min_383, r_det_383)"
   ]
  },
  {
   "cell_type": "code",
   "execution_count": null,
   "metadata": {},
   "outputs": [],
   "source": [
    "#A478\n",
    "\n",
    "rho_c_478 = make_rho_c(8.169e-3)\n",
    "r_c_478 = 177.1\n",
    "r_s_478 = 3148.2\n",
    "alpha_478 = 1.493\n",
    "beta_478 = 0.715\n",
    "epsilon_478 = 5.000\n",
    "rho_c2_478 = make_rho_c(0.584e-1)\n",
    "r_c2_478 = 24.00\n",
    "beta_2_478 = 1.000\n",
    "r_t_478 = 0.27e3\n",
    "r_cool_478 = 129.0\n",
    "a_478 = 0.02\n",
    "b_478 = 5.0\n",
    "c_478 = 0.4\n",
    "a_cool_478 = 1.60\n",
    "T_0_478 = 11.06\n",
    "T_min_478 = 0.38*T_0_478\n",
    "r_min_478 = 30\n",
    "r_det_478 = 2000"
   ]
  },
  {
   "cell_type": "code",
   "execution_count": null,
   "metadata": {},
   "outputs": [],
   "source": [
    "beta_func_478 = make_beta_func_2(rho_c_478, r_c_478, r_s_478, alpha_478, beta_478, epsilon_478, rho_c2_478, r_c2_478, beta_2_478)\n",
    "temp_func_478 = make_temp_func(T_0_478, T_min_478, r_t_478, r_cool_478, a_478, b_478, c_478, a_cool_478)\n",
    "M_B_478 = integrate_mass(beta_func_478)\n",
    "rho_B_478 = beta_func_478(radii)\n",
    "M_DM_478 = EG_mass(radii, rho_B_478, M_B_478)\n",
    "rho_DM_478 = EG_density(M_DM_478)\n",
    "rho_total_478 = rho_B_478 + rho_DM_478\n",
    "M_total_478 = M_B_478 + M_DM_478\n",
    "f_gEG_478 = M_B_478 / M_total_478\n",
    "temp_478 = temp_func_478(radii)\n",
    "M_HSE_478 = M_hse(radii, rho_B_478, temp_478)\n",
    "f_gHSE_478 = M_B_478 / M_HSE_478\n",
    "rho_HSE_478 = rho_hse(M_HSE_478)\n",
    "M_diff_478 = diff(M_HSE_478, M_total_478)\n",
    "rho_diff_478 = diff(rho_HSE_478, rho_total_478)"
   ]
  },
  {
   "cell_type": "code",
   "execution_count": null,
   "metadata": {},
   "outputs": [],
   "source": [
    "plt.rc(\"font\", size=18)\n",
    "plt.figure(figsize=(10,10))\n",
    "plt.plot(radii, temp_478)\n",
    "plt.xscale(\"log\")\n",
    "plt.xlabel(\"r (kpc)\")\n",
    "plt.ylabel(r\"$\\mathrm{T\\ (keV)}$\")\n",
    "plt.xlim(r_min_478, r_det_478)"
   ]
  },
  {
   "cell_type": "code",
   "execution_count": null,
   "metadata": {},
   "outputs": [],
   "source": [
    "plt.rc(\"font\", size=18)\n",
    "plt.figure(figsize=(10,10))\n",
    "plt.loglog(radii, M_B_478, label=\"Baryons\")\n",
    "plt.loglog(radii, M_HSE_478, label=\"Total, HSE\")\n",
    "plt.loglog(radii, M_total_478, label=\"Total, EG\")\n",
    "plt.xlabel(\"r (kpc)\")\n",
    "plt.ylabel(r\"$\\mathrm{M(<r)\\ (M_\\odot)}$\")\n",
    "plt.xlim(r_min_478, r_det_478)\n",
    "plt.legend()"
   ]
  },
  {
   "cell_type": "code",
   "execution_count": null,
   "metadata": {},
   "outputs": [],
   "source": [
    "plt.rc(\"font\", size=18)\n",
    "plt.figure(figsize=(10,10))\n",
    "plt.loglog(radii, rho_B_478, label=\"Baryons\")\n",
    "plt.loglog(radii, rho_HSE_478, label=\"Total, HSE\")\n",
    "plt.loglog(radii, rho_total_478, label=\"Total, EG\")\n",
    "plt.xlabel(\"r (kpc)\")\n",
    "plt.ylabel(r\"$\\mathrm{\\rho(r)\\ (M_\\odot/kpc^3)}$\")\n",
    "plt.xlim(r_min_478, r_det_478)\n",
    "plt.legend()"
   ]
  },
  {
   "cell_type": "code",
   "execution_count": null,
   "metadata": {},
   "outputs": [],
   "source": [
    "plt.rc(\"font\", size=18)\n",
    "plt.figure(figsize=(10,10))\n",
    "plt.plot(radii, f_gEG_478)\n",
    "plt.plot(radii, f_gHSE_478)\n",
    "plt.xlabel(\"r (kpc)\")\n",
    "plt.ylabel(r\"$\\mathrm{f_g}$\")\n",
    "plt.xlim(r_min_478, r_det_478)\n",
    "plt.ylim(0.0, 0.2)\n",
    "plt.xscale(\"log\")"
   ]
  },
  {
   "cell_type": "code",
   "execution_count": null,
   "metadata": {},
   "outputs": [],
   "source": [
    "plt.rc(\"font\", size=18)\n",
    "plt.figure(figsize=(10,10))\n",
    "plt.loglog(radii, M_diff_478)\n",
    "plt.xlabel(\"r (kpc)\")\n",
    "plt.ylabel(r\"$\\mathrm{M(<r)\\ (M_\\odot)}$\")\n",
    "plt.xlim(r_min_478, r_det_478)"
   ]
  },
  {
   "cell_type": "code",
   "execution_count": null,
   "metadata": {},
   "outputs": [],
   "source": [
    "plt.rc(\"font\", size=18)\n",
    "plt.figure(figsize=(10,10))\n",
    "plt.loglog(radii, rho_diff_478)\n",
    "plt.xlabel(\"r (kpc)\")\n",
    "plt.ylabel(r\"$\\mathrm{\\rho(r)\\ (M_\\odot/kpc^3)}$\")\n",
    "plt.xlim(r_min_478, r_det_478)"
   ]
  },
  {
   "cell_type": "code",
   "execution_count": null,
   "metadata": {},
   "outputs": [],
   "source": [
    "#A1991\n",
    "\n",
    "rho_c_1991 = make_rho_c(9.373e-3)\n",
    "r_c_1991 = 44.4\n",
    "r_s_1991 = 998.2\n",
    "alpha_1991 = 1.516\n",
    "beta_1991 = 0.501\n",
    "epsilon_1991 = 5.000\n",
    "rho_c2_1991 = make_rho_c(0.999e-1)\n",
    "r_c2_1991 = 5.00\n",
    "beta_2_1991 = 1.165\n",
    "r_t_1991 = 0.86e3\n",
    "r_cool_1991 = 42.0\n",
    "a_1991 = 0.04\n",
    "b_1991 = 2.87\n",
    "c_1991 = 4.7\n",
    "a_cool_1991 = 2.12\n",
    "T_0_1991 = 2.83\n",
    "T_min_1991 = 0.48*T_0_1991\n",
    "r_min_1991 = 10\n",
    "r_det_1991 = 1000"
   ]
  },
  {
   "cell_type": "code",
   "execution_count": null,
   "metadata": {},
   "outputs": [],
   "source": [
    "beta_func_1991 = make_beta_func_2(rho_c_1991, r_c_1991, r_s_1991, alpha_1991, beta_1991, epsilon_1991, rho_c2_1991, r_c2_1991, beta_2_1991)\n",
    "temp_func_1991 = make_temp_func(T_0_1991, T_min_1991, r_t_1991, r_cool_1991, a_1991, b_1991, c_1991, a_cool_1991)\n",
    "M_B_1991 = integrate_mass(beta_func_1991)\n",
    "rho_B_1991 = beta_func_1991(radii)\n",
    "M_DM_1991 = EG_mass(radii, rho_B_1991, M_B_1991)\n",
    "rho_DM_1991 = EG_density(M_DM_1991)\n",
    "rho_total_1991 = rho_B_1991 + rho_DM_1991\n",
    "M_total_1991 = M_B_1991 + M_DM_1991\n",
    "f_gEG_1991 = M_B_1991 / M_total_1991\n",
    "temp_1991 = temp_func_1991(radii)\n",
    "M_HSE_1991 = M_hse(radii, rho_B_1991, temp_1991)\n",
    "f_gHSE_1991 = M_B_1991 / M_HSE_1991\n",
    "rho_HSE_1991 = rho_hse(M_HSE_1991)\n",
    "M_diff_1991 = diff(M_HSE_1991, M_total_1991)\n",
    "rho_diff_1991 = diff(rho_HSE_1991, rho_total_1991)"
   ]
  },
  {
   "cell_type": "code",
   "execution_count": null,
   "metadata": {},
   "outputs": [],
   "source": [
    "plt.rc(\"font\", size=18)\n",
    "plt.figure(figsize=(10,10))\n",
    "plt.plot(radii, temp_1991)\n",
    "plt.xscale(\"log\")\n",
    "plt.xlabel(\"r (kpc)\")\n",
    "plt.ylabel(r\"$\\mathrm{T\\ (keV)}$\")\n",
    "plt.xlim(r_min_1991, r_det_1991)"
   ]
  },
  {
   "cell_type": "code",
   "execution_count": null,
   "metadata": {},
   "outputs": [],
   "source": [
    "plt.rc(\"font\", size=18)\n",
    "plt.figure(figsize=(10,10))\n",
    "plt.loglog(radii, M_B_1991, label=\"Baryons\")\n",
    "plt.loglog(radii, M_HSE_1991, label=\"Total, HSE\")\n",
    "plt.loglog(radii, M_total_1991, label=\"Total, EG\")\n",
    "plt.xlabel(\"r (kpc)\")\n",
    "plt.ylabel(r\"$\\mathrm{M(<r)\\ (M_\\odot)}$\")\n",
    "plt.xlim(r_min_1991, r_det_1991)\n",
    "plt.legend()"
   ]
  },
  {
   "cell_type": "code",
   "execution_count": null,
   "metadata": {},
   "outputs": [],
   "source": [
    "plt.rc(\"font\", size=18)\n",
    "plt.figure(figsize=(10,10))\n",
    "plt.loglog(radii, rho_B_1991, label=\"Baryons\")\n",
    "plt.loglog(radii, rho_HSE_1991, label=\"Total, HSE\")\n",
    "plt.loglog(radii, rho_total_1991, label=\"Total, EG\")\n",
    "plt.xlabel(\"r (kpc)\")\n",
    "plt.ylabel(r\"$\\mathrm{\\rho(r)\\ (M_\\odot/kpc^3)}$\")\n",
    "plt.xlim(r_min_1991, r_det_1991)\n",
    "plt.legend()"
   ]
  },
  {
   "cell_type": "code",
   "execution_count": null,
   "metadata": {},
   "outputs": [],
   "source": [
    "plt.rc(\"font\", size=18)\n",
    "plt.figure(figsize=(10,10))\n",
    "plt.plot(radii, f_gEG_1991)\n",
    "plt.plot(radii, f_gHSE_1991)\n",
    "plt.xlabel(\"r (kpc)\")\n",
    "plt.ylabel(r\"$\\mathrm{f_g}$\")\n",
    "plt.xlim(r_min_1991, r_det_1991)\n",
    "plt.ylim(0.0, 0.2)\n",
    "plt.xscale(\"log\")"
   ]
  },
  {
   "cell_type": "code",
   "execution_count": null,
   "metadata": {},
   "outputs": [],
   "source": [
    "plt.rc(\"font\", size=18)\n",
    "plt.figure(figsize=(10,10))\n",
    "plt.loglog(radii, M_diff_1991)\n",
    "plt.xlabel(\"r (kpc)\")\n",
    "plt.ylabel(r\"$\\mathrm{M(<r)\\ (M_\\odot)}$\")\n",
    "plt.xlim(r_min_1991, r_det_1991)"
   ]
  },
  {
   "cell_type": "code",
   "execution_count": null,
   "metadata": {},
   "outputs": [],
   "source": [
    "plt.rc(\"font\", size=18)\n",
    "plt.figure(figsize=(10,10))\n",
    "plt.loglog(radii, rho_diff_1991)\n",
    "plt.xlabel(\"r (kpc)\")\n",
    "plt.ylabel(r\"$\\mathrm{\\rho(r)\\ (M_\\odot/kpc^3)}$\")\n",
    "plt.xlim(r_min_1991, r_det_1991)"
   ]
  },
  {
   "cell_type": "code",
   "execution_count": null,
   "metadata": {},
   "outputs": [],
   "source": [
    "#A2029\n",
    "\n",
    "rho_c_2029 = make_rho_c(16.469e-3)\n",
    "r_c_2029 = 80.7\n",
    "r_s_2029 = 870.6\n",
    "alpha_2029 = 1.131\n",
    "beta_2029 = 0.539\n",
    "epsilon_2029 = 1.650\n",
    "rho_c2_2029 = make_rho_c(3.741e-1)\n",
    "r_c2_2029 = 5.00\n",
    "beta_2_2029 = 1.000\n",
    "r_t_2029 = 3.04e3\n",
    "r_cool_2029 = 93.0\n",
    "a_2029 = -0.03\n",
    "b_2029 = 1.57\n",
    "c_2029 = 5.9\n",
    "a_cool_2029 = 0.48\n",
    "T_0_2029 = 16.19\n",
    "T_min_2029 = 0.10*T_0_2029\n",
    "r_min_2029 = 20\n",
    "r_det_2029 = 2250"
   ]
  },
  {
   "cell_type": "code",
   "execution_count": null,
   "metadata": {},
   "outputs": [],
   "source": [
    "beta_func_2029 = make_beta_func_2(rho_c_2029, r_c_2029, r_s_2029, alpha_2029, beta_2029, epsilon_2029, rho_c2_2029, r_c2_2029, beta_2_2029)\n",
    "temp_func_2029 = make_temp_func(T_0_2029, T_min_2029, r_t_2029, r_cool_2029, a_2029, b_2029, c_2029, a_cool_2029)\n",
    "M_B_2029 = integrate_mass(beta_func_2029)\n",
    "rho_B_2029 = beta_func_2029(radii)\n",
    "M_DM_2029 = EG_mass(radii, rho_B_2029, M_B_2029)\n",
    "rho_DM_2029 = EG_density(M_DM_2029)\n",
    "rho_total_2029 = rho_B_2029 + rho_DM_2029\n",
    "M_total_2029 = M_B_2029 + M_DM_2029\n",
    "f_gEG_2029 = M_B_2029 / M_total_2029\n",
    "temp_2029 = temp_func_2029(radii)\n",
    "M_HSE_2029 = M_hse(radii, rho_B_2029, temp_2029)\n",
    "f_gHSE_2029 = M_B_2029 / M_HSE_2029\n",
    "rho_HSE_2029 = rho_hse(M_HSE_2029)\n",
    "M_diff_2029 = diff(M_HSE_2029, M_total_2029)\n",
    "rho_diff_2029 = diff(rho_HSE_2029, rho_total_2029)"
   ]
  },
  {
   "cell_type": "code",
   "execution_count": null,
   "metadata": {},
   "outputs": [],
   "source": [
    "plt.rc(\"font\", size=18)\n",
    "plt.figure(figsize=(10,10))\n",
    "plt.plot(radii, temp_2029)\n",
    "plt.xscale(\"log\")\n",
    "plt.xlabel(\"r (kpc)\")\n",
    "plt.ylabel(r\"$\\mathrm{T\\ (keV)}$\")\n",
    "plt.xlim(r_min_2029, r_det_2029)"
   ]
  },
  {
   "cell_type": "code",
   "execution_count": null,
   "metadata": {},
   "outputs": [],
   "source": [
    "plt.rc(\"font\", size=18)\n",
    "plt.figure(figsize=(10,10))\n",
    "plt.loglog(radii, M_B_2029, label=\"Baryons\")\n",
    "plt.loglog(radii, M_HSE_2029, label=\"Total, HSE\")\n",
    "plt.loglog(radii, M_total_2029, label=\"Total, EG\")\n",
    "plt.xlabel(\"r (kpc)\")\n",
    "plt.ylabel(r\"$\\mathrm{M(<r)\\ (M_\\odot)}$\")\n",
    "plt.xlim(r_min_2029, r_det_2029)\n",
    "plt.legend()"
   ]
  },
  {
   "cell_type": "code",
   "execution_count": null,
   "metadata": {},
   "outputs": [],
   "source": [
    "plt.rc(\"font\", size=18)\n",
    "plt.figure(figsize=(10,10))\n",
    "plt.loglog(radii, rho_B_2029, label=\"Baryons\")\n",
    "plt.loglog(radii, rho_HSE_2029, label=\"Total, HSE\")\n",
    "plt.loglog(radii, rho_total_2029, label=\"Total, EG\")\n",
    "plt.xlabel(\"r (kpc)\")\n",
    "plt.ylabel(r\"$\\mathrm{\\rho(r)\\ (M_\\odot/kpc^3)}$\")\n",
    "plt.xlim(r_min_2029, r_det_2029)\n",
    "plt.legend()"
   ]
  },
  {
   "cell_type": "code",
   "execution_count": null,
   "metadata": {},
   "outputs": [],
   "source": [
    "plt.rc(\"font\", size=18)\n",
    "plt.figure(figsize=(10,10))\n",
    "plt.plot(radii, f_gEG_2029)\n",
    "plt.plot(radii, f_gHSE_2029)\n",
    "plt.xlabel(\"r (kpc)\")\n",
    "plt.ylabel(r\"$\\mathrm{f_g}$\")\n",
    "plt.xlim(r_min_2029, r_det_2029)\n",
    "plt.ylim(0.0, 0.2)\n",
    "plt.xscale(\"log\")"
   ]
  },
  {
   "cell_type": "code",
   "execution_count": null,
   "metadata": {},
   "outputs": [],
   "source": [
    "plt.rc(\"font\", size=18)\n",
    "plt.figure(figsize=(10,10))\n",
    "plt.loglog(radii, M_diff_2029)\n",
    "plt.xlabel(\"r (kpc)\")\n",
    "plt.ylabel(r\"$\\mathrm{M(<r)\\ (M_\\odot)}$\")\n",
    "plt.xlim(r_min_2029, r_det_2029)"
   ]
  },
  {
   "cell_type": "code",
   "execution_count": null,
   "metadata": {},
   "outputs": [],
   "source": [
    "plt.rc(\"font\", size=18)\n",
    "plt.figure(figsize=(10,10))\n",
    "plt.loglog(radii, rho_diff_2029)\n",
    "plt.xlabel(\"r (kpc)\")\n",
    "plt.ylabel(r\"$\\mathrm{\\rho(r)\\ (M_\\odot/kpc^3)}$\")\n",
    "plt.xlim(r_min_2029, r_det_2029)"
   ]
  },
  {
   "cell_type": "code",
   "execution_count": null,
   "metadata": {},
   "outputs": [],
   "source": [
    "#RX J1159+5531\n",
    "\n",
    "rho_c_1159 = make_rho_c(0.198e-3)\n",
    "r_c_1159 = 613.8\n",
    "r_s_1159 = 961.5\n",
    "alpha_1159 = 1.762\n",
    "beta_1159 = 1.215\n",
    "epsilon_1159 = 4.939\n",
    "rho_c2_1159 = make_rho_c(0.416e-1)\n",
    "r_c2_1159 = 12.66\n",
    "beta_2_1159 = 1.000\n",
    "r_t_1159 = 0.10e3\n",
    "r_cool_1159 = 22.0\n",
    "a_1159 = 0.09\n",
    "b_1159 = 0.77\n",
    "c_1159 = 0.4\n",
    "a_cool_1159 = 1.68\n",
    "T_0_1159 = 3.74\n",
    "T_min_1159 = 0.13*T_0_1159\n",
    "r_min_1159 = 10\n",
    "r_det_1159 = 600"
   ]
  },
  {
   "cell_type": "code",
   "execution_count": null,
   "metadata": {},
   "outputs": [],
   "source": [
    "beta_func_1159 = make_beta_func_2(rho_c_1159, r_c_1159, r_s_1159, alpha_1159, beta_1159, epsilon_1159, rho_c2_1159, r_c2_1159, beta_2_1159)\n",
    "temp_func_1159 = make_temp_func(T_0_1159, T_min_1159, r_t_1159, r_cool_1159, a_1159, b_1159, c_1159, a_cool_1159)\n",
    "M_B_1159 = integrate_mass(beta_func_1159)\n",
    "rho_B_1159 = beta_func_1159(radii)\n",
    "M_DM_1159 = EG_mass(radii, rho_B_1159, M_B_1159)\n",
    "rho_DM_1159 = EG_density(M_DM_1159)\n",
    "rho_total_1159 = rho_B_1159 + rho_DM_1159\n",
    "M_total_1159 = M_B_1159 + M_DM_1159\n",
    "f_gEG_1159 = M_B_1159 / M_total_1159\n",
    "temp_1159 = temp_func_1159(radii)\n",
    "M_HSE_1159 = M_hse(radii, rho_B_1159, temp_1159)\n",
    "f_gHSE_1159 = M_B_1159 / M_HSE_1159\n",
    "rho_HSE_1159 = rho_hse(M_HSE_1159)\n",
    "M_diff_1159 = diff(M_HSE_1159, M_total_1159)\n",
    "rho_diff_1159 = diff(rho_HSE_1159, rho_total_1159)"
   ]
  },
  {
   "cell_type": "code",
   "execution_count": null,
   "metadata": {},
   "outputs": [],
   "source": [
    "plt.rc(\"font\", size=18)\n",
    "plt.figure(figsize=(10,10))\n",
    "plt.plot(radii, temp_1159)\n",
    "plt.xscale(\"log\")\n",
    "plt.xlabel(\"r (kpc)\")\n",
    "plt.ylabel(r\"$\\mathrm{T\\ (keV)}$\")\n",
    "plt.xlim(r_min_1159, r_det_1159)"
   ]
  },
  {
   "cell_type": "code",
   "execution_count": null,
   "metadata": {},
   "outputs": [],
   "source": [
    "plt.rc(\"font\", size=18)\n",
    "plt.figure(figsize=(10,10))\n",
    "plt.loglog(radii, M_B_1159, label=\"Baryons\")\n",
    "plt.loglog(radii, M_HSE_1159, label=\"Total, HSE\")\n",
    "plt.loglog(radii, M_total_1159, label=\"Total, EG\")\n",
    "plt.xlabel(\"r (kpc)\")\n",
    "plt.ylabel(r\"$\\mathrm{M(<r)\\ (M_\\odot)}$\")\n",
    "plt.xlim(r_min_1159, r_det_1159)\n",
    "plt.legend()"
   ]
  },
  {
   "cell_type": "code",
   "execution_count": null,
   "metadata": {},
   "outputs": [],
   "source": [
    "plt.rc(\"font\", size=18)\n",
    "plt.figure(figsize=(10,10))\n",
    "plt.loglog(radii, rho_B_1159, label=\"Baryons\")\n",
    "plt.loglog(radii, rho_HSE_1159, label=\"Total, HSE\")\n",
    "plt.loglog(radii, rho_total_1159, label=\"Total, EG\")\n",
    "plt.xlabel(\"r (kpc)\")\n",
    "plt.ylabel(r\"$\\mathrm{\\rho(r)\\ (M_\\odot/kpc^3)}$\")\n",
    "plt.xlim(r_min_1159, r_det_1159)\n",
    "plt.legend()"
   ]
  },
  {
   "cell_type": "code",
   "execution_count": null,
   "metadata": {},
   "outputs": [],
   "source": [
    "plt.rc(\"font\", size=18)\n",
    "plt.figure(figsize=(10,10))\n",
    "plt.plot(radii, f_gEG_1159)\n",
    "plt.plot(radii, f_gHSE_1159)\n",
    "plt.xlabel(\"r (kpc)\")\n",
    "plt.ylabel(r\"$\\mathrm{f_g}$\")\n",
    "plt.xlim(r_min_1159, r_det_1159)\n",
    "plt.ylim(0.0, 0.2)\n",
    "plt.xscale(\"log\")"
   ]
  },
  {
   "cell_type": "code",
   "execution_count": null,
   "metadata": {},
   "outputs": [],
   "source": [
    "plt.rc(\"font\", size=18)\n",
    "plt.figure(figsize=(10,10))\n",
    "plt.loglog(radii, M_diff_1159)\n",
    "plt.xlabel(\"r (kpc)\")\n",
    "plt.ylabel(r\"$\\mathrm{M(<r)\\ (M_\\odot)}$\")\n",
    "plt.xlim(r_min_1159, r_det_1159)"
   ]
  },
  {
   "cell_type": "code",
   "execution_count": null,
   "metadata": {},
   "outputs": [],
   "source": [
    "plt.rc(\"font\", size=18)\n",
    "plt.figure(figsize=(10,10))\n",
    "plt.loglog(radii, rho_diff_1159)\n",
    "plt.xlabel(\"r (kpc)\")\n",
    "plt.ylabel(r\"$\\mathrm{\\rho(r)\\ (M_\\odot/kpc^3)}$\")\n",
    "plt.xlim(r_min_1159, r_det_1159)"
   ]
  },
  {
   "cell_type": "code",
   "execution_count": null,
   "metadata": {},
   "outputs": [],
   "source": [
    "#MKW4\n",
    "\n",
    "rho_c_4 = make_rho_c(0.280e-3)\n",
    "r_c_4 = 488.6\n",
    "r_s_4 = 1081.6\n",
    "alpha_4 = 1.628\n",
    "beta_4 = 1.224\n",
    "epsilon_4 = 0.000\n",
    "rho_c2_4 = make_rho_c(0.189e-1)\n",
    "r_c2_4 = 11.08\n",
    "beta_2_4 = 0.661\n",
    "r_t_4 = 0.10e3\n",
    "r_cool_4 = 16.0\n",
    "a_4 = -0.07\n",
    "b_4 = 5.0\n",
    "c_4 = 0.5\n",
    "a_cool_4 = 9.62\n",
    "T_0_4 = 2.26\n",
    "T_min_4 = 0.85*T_0_4\n",
    "r_min_4 = 5\n",
    "r_det_4 = 550"
   ]
  },
  {
   "cell_type": "code",
   "execution_count": null,
   "metadata": {},
   "outputs": [],
   "source": [
    "beta_func_4 = make_beta_func_2(rho_c_4, r_c_4, r_s_4, alpha_4, beta_4, epsilon_4, rho_c2_4, r_c2_4, beta_2_4)\n",
    "temp_func_4 = make_temp_func(T_0_4, T_min_4, r_t_4, r_cool_4, a_4, b_4, c_4, a_cool_4)\n",
    "M_B_4 = integrate_mass(beta_func_4)\n",
    "rho_B_4 = beta_func_4(radii)\n",
    "M_DM_4 = EG_mass(radii, rho_B_4, M_B_4)\n",
    "rho_DM_4 = EG_density(M_DM_4)\n",
    "rho_total_4 = rho_B_4 + rho_DM_4\n",
    "M_total_4 = M_B_4 + M_DM_4\n",
    "f_gEG_4 = M_B_4 / M_total_4\n",
    "temp_4 = temp_func_4(radii)\n",
    "M_HSE_4 = M_hse(radii, rho_B_4, temp_4)\n",
    "f_gHSE_4 = M_B_4 / M_HSE_4\n",
    "rho_HSE_4 = rho_hse(M_HSE_4)\n",
    "M_diff_4 = diff(M_HSE_4, M_total_4)\n",
    "rho_diff_4 = diff(rho_HSE_4, rho_total_4)"
   ]
  },
  {
   "cell_type": "code",
   "execution_count": null,
   "metadata": {},
   "outputs": [],
   "source": [
    "plt.rc(\"font\", size=18)\n",
    "plt.figure(figsize=(10,10))\n",
    "plt.plot(radii, temp_4)\n",
    "plt.xscale(\"log\")\n",
    "plt.xlabel(\"r (kpc)\")\n",
    "plt.ylabel(r\"$\\mathrm{T\\ (keV)}$\")\n",
    "plt.xlim(r_min_4, r_det_4)"
   ]
  },
  {
   "cell_type": "code",
   "execution_count": null,
   "metadata": {},
   "outputs": [],
   "source": [
    "plt.rc(\"font\", size=18)\n",
    "plt.figure(figsize=(10,10))\n",
    "plt.loglog(radii, M_B_4, label=\"Baryons\")\n",
    "plt.loglog(radii, M_HSE_4, label=\"Total, HSE\")\n",
    "plt.loglog(radii, M_total_4, label=\"Total, EG\")\n",
    "plt.xlabel(\"r (kpc)\")\n",
    "plt.ylabel(r\"$\\mathrm{M(<r)\\ (M_\\odot)}$\")\n",
    "plt.xlim(r_min_4, r_det_4)\n",
    "plt.legend()"
   ]
  },
  {
   "cell_type": "code",
   "execution_count": null,
   "metadata": {},
   "outputs": [],
   "source": [
    "plt.rc(\"font\", size=18)\n",
    "plt.figure(figsize=(10,10))\n",
    "plt.loglog(radii, rho_B_4, label=\"Baryons\")\n",
    "plt.loglog(radii, rho_HSE_4, label=\"Total, HSE\")\n",
    "plt.loglog(radii, rho_total_4, label=\"Total, EG\")\n",
    "plt.xlabel(\"r (kpc)\")\n",
    "plt.ylabel(r\"$\\mathrm{\\rho(r)\\ (M_\\odot/kpc^3)}$\")\n",
    "plt.xlim(r_min_4, r_det_4)\n",
    "plt.legend()"
   ]
  },
  {
   "cell_type": "code",
   "execution_count": null,
   "metadata": {},
   "outputs": [],
   "source": [
    "plt.rc(\"font\", size=18)\n",
    "plt.figure(figsize=(10,10))\n",
    "plt.plot(radii, f_gEG_4)\n",
    "plt.plot(radii, f_gHSE_4)\n",
    "plt.xlabel(\"r (kpc)\")\n",
    "plt.ylabel(r\"$\\mathrm{f_g}$\")\n",
    "plt.xlim(r_min_4, r_det_4)\n",
    "plt.xscale(\"log\")\n",
    "plt.ylim(0.0, 0.2)"
   ]
  },
  {
   "cell_type": "code",
   "execution_count": null,
   "metadata": {},
   "outputs": [],
   "source": [
    "plt.rc(\"font\", size=18)\n",
    "plt.figure(figsize=(10,10))\n",
    "plt.loglog(radii, M_diff_4)\n",
    "plt.xlabel(\"r (kpc)\")\n",
    "plt.ylabel(r\"$\\mathrm{M(<r)\\ (M_\\odot)}$\")\n",
    "plt.xlim(r_min_4, r_det_4)"
   ]
  },
  {
   "cell_type": "code",
   "execution_count": null,
   "metadata": {},
   "outputs": [],
   "source": [
    "plt.rc(\"font\", size=18)\n",
    "plt.figure(figsize=(10,10))\n",
    "plt.loglog(radii, rho_diff_4)\n",
    "plt.xlabel(\"r (kpc)\")\n",
    "plt.ylabel(r\"$\\mathrm{\\rho(r)\\ (M_\\odot/kpc^3)}$\")\n",
    "plt.xlim(r_min_4, r_det_4)"
   ]
  },
  {
   "cell_type": "code",
   "execution_count": null,
   "metadata": {},
   "outputs": [],
   "source": []
  }
 ],
 "metadata": {
  "kernelspec": {
   "display_name": "Python 3",
   "language": "python",
   "name": "python3"
  },
  "language_info": {
   "codemirror_mode": {
    "name": "ipython",
    "version": 3
   },
   "file_extension": ".py",
   "mimetype": "text/x-python",
   "name": "python",
   "nbconvert_exporter": "python",
   "pygments_lexer": "ipython3",
   "version": "3.7.1"
  }
 },
 "nbformat": 4,
 "nbformat_minor": 2
}
