{
 "cells": [
  {
   "cell_type": "code",
   "execution_count": null,
   "metadata": {},
   "outputs": [],
   "source": [
    "%matplotlib inline\n",
    "import numpy as np\n",
    "import matplotlib.pyplot as plt\n",
    "from yt.utilities.cosmology import Cosmology\n",
    "import yt\n",
    "import yt.units as u\n",
    "from scipy.integrate import solve_ivp\n",
    "from scipy.interpolate import InterpolatedUnivariateSpline\n",
    "from numpy.random import RandomState"
   ]
  },
  {
   "cell_type": "code",
   "execution_count": null,
   "metadata": {},
   "outputs": [],
   "source": [
    "prng = RandomState(24)"
   ]
  },
  {
   "cell_type": "code",
   "execution_count": null,
   "metadata": {},
   "outputs": [],
   "source": [
    "# Planck 2018 cosmology\n",
    "cosmo = Cosmology(hubble_constant=0.67, omega_matter=0.32, omega_lambda=0.68)\n",
    "rho_crit = cosmo.critical_density(0.0).to_value(\"Msun/kpc**3\")\n",
    "h = cosmo.hubble_constant.v\n",
    "H0 = cosmo.hubble_constant"
   ]
  },
  {
   "cell_type": "code",
   "execution_count": null,
   "metadata": {},
   "outputs": [],
   "source": [
    "K = (6.0*u.G/(u.clight*H0)).in_base(\"galactic\").v"
   ]
  },
  {
   "cell_type": "code",
   "execution_count": null,
   "metadata": {},
   "outputs": [],
   "source": [
    "num_clusters = 1000"
   ]
  },
  {
   "cell_type": "code",
   "execution_count": null,
   "metadata": {},
   "outputs": [],
   "source": [
    "M, numM = np.loadtxt(\"halo_mass_function.txt\", unpack=True, usecols=(0, 8))\n",
    "M /= h\n",
    "numM *= h**3"
   ]
  },
  {
   "cell_type": "code",
   "execution_count": null,
   "metadata": {},
   "outputs": [],
   "source": [
    "Q = numM / numM.max()\n",
    "Q = np.insert(Q, numM.size, 0.0)\n",
    "P = 1.0-Q\n",
    "M = np.insert(M, 0, 0.0)"
   ]
  },
  {
   "cell_type": "code",
   "execution_count": null,
   "metadata": {},
   "outputs": [],
   "source": [
    "Pa = np.interp(1.0e14, M, P)\n",
    "Pb = np.interp(2.0e15, M, P)"
   ]
  },
  {
   "cell_type": "code",
   "execution_count": null,
   "metadata": {},
   "outputs": [],
   "source": [
    "uu = prng.uniform(low=Pa, high=Pb, size=num_clusters)\n",
    "M200c = np.interp(uu, P, M, left=0.0, right=1.0)"
   ]
  },
  {
   "cell_type": "code",
   "execution_count": null,
   "metadata": {},
   "outputs": [],
   "source": [
    "r200c = (3*M200c/(4.0*np.pi*(200.0*rho_crit)))**(1./3.)"
   ]
  },
  {
   "cell_type": "code",
   "execution_count": null,
   "metadata": {},
   "outputs": [],
   "source": [
    "b = -0.101\n",
    "a = 0.905\n",
    "logc = a+b*np.log10(M200c/(1.0e12/h))\n",
    "c200c = 10**logc"
   ]
  },
  {
   "cell_type": "code",
   "execution_count": null,
   "metadata": {},
   "outputs": [],
   "source": [
    "sigma = 0.11/np.log10(np.exp(1.0)) # dex to natural log\n",
    "c200s = prng.lognormal(mean=np.log(c200c), sigma=sigma)"
   ]
  },
  {
   "cell_type": "code",
   "execution_count": null,
   "metadata": {},
   "outputs": [],
   "source": [
    "r_s = r200c/c200s"
   ]
  },
  {
   "cell_type": "code",
   "execution_count": null,
   "metadata": {},
   "outputs": [],
   "source": [
    "g = lambda c: 1.0/(np.log(1.0+c)-c/(1.0+c))"
   ]
  },
  {
   "cell_type": "code",
   "execution_count": null,
   "metadata": {},
   "outputs": [],
   "source": [
    "rho_s = 200.0*rho_crit*c200s**3*g(c200s)/3."
   ]
  },
  {
   "cell_type": "code",
   "execution_count": null,
   "metadata": {},
   "outputs": [],
   "source": [
    "radii = np.linspace(0.0, 2000.0, 4000)"
   ]
  },
  {
   "cell_type": "code",
   "execution_count": null,
   "metadata": {},
   "outputs": [],
   "source": [
    "rho_nfw = lambda r, rho_s, r_s: rho_s/((r/r_s)*(1.0+r/r_s)**2)\n",
    "m_nfw = lambda r, rho_s, r_s: 4.0*np.pi*rho_s*r_s**3*(np.log(1.0+r/r_s)-r/r_s/(1.0+r/r_s))"
   ]
  },
  {
   "cell_type": "code",
   "execution_count": null,
   "metadata": {},
   "outputs": [],
   "source": [
    "rho_tot = []\n",
    "m_tot = []\n",
    "m_b = []\n",
    "rho_b = []\n",
    "m_pred = []\n",
    "for i in range(num_clusters):\n",
    "    rho_tot.append(rho_nfw(radii, rho_s[i], r_s[i]))\n",
    "    Mtot = lambda r: m_nfw(r, rho_s[i], r_s[i])\n",
    "    def dMbdr(r, Mb): \n",
    "        r = max(r, 1.0e-4)\n",
    "        return -Mb/r + K*(Mtot(r)-Mb)**2/r**3\n",
    "    m_tot.append(Mtot(radii))\n",
    "    sol = solve_ivp(dMbdr, (radii[0], radii[-1]), [0.0], t_eval=radii)\n",
    "    m_b.append(sol.y[0,:])\n",
    "    frho = InterpolatedUnivariateSpline(radii, m_b[i])\n",
    "    rho_b.append(frho(radii, nu=1)/(4.0*np.pi*radii*radii))\n",
    "rho_tot = np.array(rho_tot)\n",
    "m_tot = np.array(m_tot)\n",
    "m_b = np.array(m_b)\n",
    "rho_b = np.array(rho_b)\n",
    "m_pred = m_b+np.sqrt(radii**2*(m_b+4.0*np.pi*radii**3*rho_b)/K)"
   ]
  },
  {
   "cell_type": "code",
   "execution_count": null,
   "metadata": {},
   "outputs": [],
   "source": [
    "rmax = np.array([radii[rho > 0][-1] for rho in rho_b])"
   ]
  },
  {
   "cell_type": "code",
   "execution_count": null,
   "metadata": {},
   "outputs": [],
   "source": [
    "mue = 1.0/0.88\n",
    "n_e = (rho_b*u.Msun/u.kpc**3).to_equivalent(\"cm**-3\", \"number_density\", mu=mue)"
   ]
  },
  {
   "cell_type": "code",
   "execution_count": null,
   "metadata": {},
   "outputs": [],
   "source": [
    "rho_avg = 3.0*m_tot/(4.0*np.pi*radii**3)"
   ]
  },
  {
   "cell_type": "code",
   "execution_count": null,
   "metadata": {},
   "outputs": [],
   "source": [
    "r500c = []\n",
    "for i in range(num_clusters):\n",
    "    r500c.append(radii[rho_avg[i,:] < 500.0*rho_crit][0])\n",
    "r500c = np.array(r500c)\n",
    "M500c = (4.0*np.pi/3.0)*500.0*rho_crit*r500c**3"
   ]
  },
  {
   "cell_type": "code",
   "execution_count": null,
   "metadata": {},
   "outputs": [],
   "source": [
    "# Find stellar contribution to baryon mass using Lin et al 2004 and Gonzalez et al 2013\n",
    "c_s = 2.9\n",
    "rho_ss = 1.0\n",
    "A = 0.39*(M500c*1.0e-14)**(-0.84)\n",
    "m_star = []\n",
    "rho_star = []\n",
    "for i in range(num_clusters):\n",
    "    r_ss = r200c[i]/c_s \n",
    "    m_s = m_nfw(radii, rho_ss, r_ss)\n",
    "    idx = np.searchsorted(radii, r500c[i])-1\n",
    "    m_s /= m_s[idx]\n",
    "    m_s *= (A[i]/(1.0+A[i]))*m_b[i,idx]\n",
    "    frho = InterpolatedUnivariateSpline(radii, m_s)\n",
    "    rho_s = frho(radii, nu=1)/(4.0*np.pi*radii*radii)\n",
    "    m_star.append(m_s)\n",
    "    rho_star.append(rho_s)\n",
    "m_star = np.array(m_star)\n",
    "rho_star = np.array(rho_star)\n",
    "m_gas = m_b-m_star\n",
    "rho_gas = rho_b-rho_star\n",
    "f_gas = m_gas/m_tot"
   ]
  },
  {
   "cell_type": "code",
   "execution_count": null,
   "metadata": {},
   "outputs": [],
   "source": [
    "#r_core = 0.012*r500c"
   ]
  },
  {
   "cell_type": "code",
   "execution_count": null,
   "metadata": {},
   "outputs": [],
   "source": [
    "# Put this step in a loop and replace 0 by i in the loop\n",
    "#y = 4.0*np.pi*radii**2*n_e[0,:].d\n",
    "#V = 4.0*np.pi/3.0*r_core[0]**3\n",
    "#which_radii = np.logical_and(0.0 < radii, radii <= r_core[0])\n",
    "#n_e_avg = np.trapz(y[which_radii], radii[which_radii])/V"
   ]
  },
  {
   "cell_type": "code",
   "execution_count": null,
   "metadata": {},
   "outputs": [],
   "source": [
    "m_b.shape"
   ]
  },
  {
   "cell_type": "code",
   "execution_count": null,
   "metadata": {},
   "outputs": [],
   "source": [
    "plt.figure(figsize=(10,10))\n",
    "plt.loglog(radii, rho_tot[100])\n",
    "plt.loglog(radii, rho_b[100])\n",
    "plt.loglog(radii, rho_gas[100])\n",
    "plt.loglog(radii, rho_star[100])"
   ]
  },
  {
   "cell_type": "code",
   "execution_count": null,
   "metadata": {},
   "outputs": [],
   "source": []
  }
 ],
 "metadata": {
  "kernelspec": {
   "display_name": "Python 3",
   "language": "python",
   "name": "python3"
  },
  "language_info": {
   "codemirror_mode": {
    "name": "ipython",
    "version": 3
   },
   "file_extension": ".py",
   "mimetype": "text/x-python",
   "name": "python",
   "nbconvert_exporter": "python",
   "pygments_lexer": "ipython3",
   "version": "3.7.1"
  }
 },
 "nbformat": 4,
 "nbformat_minor": 2
}
